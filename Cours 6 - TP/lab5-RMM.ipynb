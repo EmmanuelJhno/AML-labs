{
 "cells": [
  {
   "cell_type": "markdown",
   "metadata": {},
   "source": [
    "# Lab 5: Robust Mixture Models"
   ]
  },
  {
   "cell_type": "markdown",
   "metadata": {},
   "source": [
    "The goal of this lab session is to study robust mixture models. You will code the EM algorithm to estimate the parameters of a mixture of multivariate t-distributions. \n",
    "\n",
    "You have to send the filled notebook named **\"L5_familyname1_familyname2.ipynb\"** (groups of 2) by email to aml.centralesupelec.2019@gmail.com before October 31 at 23:59. Please put **\"AML-L5\"** in the subject. \n",
    "\n",
    "We begin with the standard imports:"
   ]
  },
  {
   "cell_type": "code",
   "execution_count": null,
   "metadata": {},
   "outputs": [],
   "source": [
    "import numpy as np\n",
    "import matplotlib.pyplot as plt\n",
    "import seaborn as sns\n",
    "import math\n",
    "%matplotlib inline\n",
    "sns.set_context('poster')\n",
    "sns.set_color_codes()\n",
    "plot_kwds = {'alpha' : 0.25, 's' : 80, 'linewidths':0}"
   ]
  },
  {
   "cell_type": "markdown",
   "metadata": {},
   "source": [
    "### $t$MM\n",
    "\n",
    "Reference: https://people.smp.uq.edu.au/GeoffMcLachlan/pm_sc00.pdf \n",
    "\n",
    "1 - Prove that in the $t$MM model\n",
    "\n",
    "$$U_i|(X_i=x_i,Z_{ij}=1) \\sim \\Gamma\\left(\\frac{\\nu_j+p}{2}, \\frac{\\nu_j+(x_i-\\mu_j)^T\\Sigma_j^{-1}(x_i-\\mu_j)}{2}\\right)$$\n",
    "\n",
    "2 - Fill in the following class to implement EM for a multivariate $t$MM. You can use the gamma and digamma functions and also a solver to find roots. "
   ]
  },
  {
   "cell_type": "code",
   "execution_count": null,
   "metadata": {},
   "outputs": [],
   "source": [
    "class my_tMM():\n",
    "    \n",
    "    def __init__(self, K):\n",
    "        '''\n",
    "        Parameters:\n",
    "        K: integer\n",
    "            number of components\n",
    "        \n",
    "        Attributes:\n",
    "        \n",
    "        alpha_: np.array\n",
    "            proportion of components\n",
    "        mu_: np.array\n",
    "            array containing means\n",
    "        Sigma_: np.array\n",
    "            array cointaining covariance matrix\n",
    "        cond_prob_: (n, K) np.array\n",
    "            conditional probabilities for all data points \n",
    "        u_: (n, K) np.array\n",
    "            expectation of the U variable \n",
    "        dof_: (K, ) np.array\n",
    "            degrees of freedom of each component\n",
    "        labels_: (n, ) np.array\n",
    "            labels for data points\n",
    "        '''\n",
    "        \n",
    "        self.K = K\n",
    "        self.alpha_ = None\n",
    "        self.mu_ = None\n",
    "        self.Sigma_ = None\n",
    "        self.cond_prob_ = None\n",
    "        self.labels_ = None\n",
    "        self.dof_ = None\n",
    "        self.u_ = None\n",
    "        \n",
    "    def fit(self, X):\n",
    "        \"\"\" Find the parameters\n",
    "        that better fit the data\n",
    "        \n",
    "        Parameters:\n",
    "        -----------\n",
    "        X: (n, p) np.array\n",
    "            Data matrix\n",
    "        \n",
    "        Returns:\n",
    "        -----\n",
    "        self\n",
    "        \"\"\"\n",
    "        \n",
    "        def sqr_mahalanobis(x, mu, Sigma):\n",
    "            # compute the squared Mahalanobis distance\n",
    "            return(1)\n",
    "        \n",
    "        def pdf_multivariate_t(X, mu, Sigma, dof):\n",
    "            # compute pdf of a multivariate Student's t-distribution  \n",
    "            return(1)\n",
    "        \n",
    "        def function_dof(dof, old_dof, cond_prob, u, k, p):\n",
    "            # function to find dof\n",
    "            return(1)\n",
    "            \n",
    "        # initialization\n",
    "        \n",
    "        # fit a k-mean clustering to find approximately the means\n",
    "        \n",
    "        # while(not convergence)\n",
    "\n",
    "            # Expectation-step\n",
    "            \n",
    "                # update cond_prob_ and u_\n",
    "\n",
    "            # Maximization-step\n",
    "\n",
    "                # update mu and sigma values for maximizing the likelihood\n",
    "                # update the degrees of freedom variable\n",
    "                        \n",
    "        # Update labels\n",
    "            \n",
    "        return(self)\n",
    "            "
   ]
  },
  {
   "cell_type": "markdown",
   "metadata": {},
   "source": [
    "3 - Generate one dataset with mixtures of t-distributions that ilustrate when tMM and GMM behave similarly and another dataset where tMM has a better performance"
   ]
  },
  {
   "cell_type": "code",
   "execution_count": null,
   "metadata": {},
   "outputs": [],
   "source": []
  },
  {
   "cell_type": "markdown",
   "metadata": {},
   "source": [
    "4 - Modify the my_GMM class to implement the Extra Uniform Cluster Algorithm"
   ]
  },
  {
   "cell_type": "code",
   "execution_count": null,
   "metadata": {},
   "outputs": [],
   "source": []
  },
  {
   "cell_type": "markdown",
   "metadata": {},
   "source": [
    "5 - Modify the my_GMM class to implement the trimmed EM for GMM"
   ]
  },
  {
   "cell_type": "code",
   "execution_count": null,
   "metadata": {},
   "outputs": [],
   "source": []
  },
  {
   "cell_type": "markdown",
   "metadata": {},
   "source": [
    "6 - Compare the 4 methods in one example"
   ]
  },
  {
   "cell_type": "code",
   "execution_count": null,
   "metadata": {},
   "outputs": [],
   "source": []
  },
  {
   "cell_type": "markdown",
   "metadata": {},
   "source": [
    "**BONUS (not graded):** Implement the trimming EM clustering algorithm TCLUST (https://arxiv.org/pdf/0806.2976.pdf) "
   ]
  },
  {
   "cell_type": "code",
   "execution_count": null,
   "metadata": {},
   "outputs": [],
   "source": []
  }
 ],
 "metadata": {
  "kernelspec": {
   "display_name": "Python 3",
   "language": "python",
   "name": "python3"
  },
  "language_info": {
   "codemirror_mode": {
    "name": "ipython",
    "version": 3
   },
   "file_extension": ".py",
   "mimetype": "text/x-python",
   "name": "python",
   "nbconvert_exporter": "python",
   "pygments_lexer": "ipython3",
   "version": "3.7.1"
  }
 },
 "nbformat": 4,
 "nbformat_minor": 2
}
