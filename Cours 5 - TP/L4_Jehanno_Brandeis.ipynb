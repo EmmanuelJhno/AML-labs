{
 "cells": [
  {
   "cell_type": "markdown",
   "metadata": {},
   "source": [
    "# Lab 4-: Mixture Models and Model order selection "
   ]
  },
  {
   "cell_type": "markdown",
   "metadata": {},
   "source": [
    "The goal of this lab session is to study mixture models. In the first part you will code the EM algorithm to estimate the parameters of a GMM given the number of mixed distributions and in the second part you will try different model order selection methods. You will send only one notebook for both parts **(this notebook will be updated with instructions for the second part and the deadline)**.\n",
    "\n",
    "You have to send the filled notebook named **\"L4__familyname1_familyname2.ipynb\"** (groups of 2) by email to aml.centralesupelec.2019@gmail.com and put **\"AML-L4- \"** in the subject. \n",
    "\n",
    "We begin with the standard imports:"
   ]
  },
  {
   "cell_type": "code",
   "execution_count": 25,
   "metadata": {},
   "outputs": [],
   "source": [
    "import numpy as np\n",
    "import matplotlib.pyplot as plt\n",
    "import seaborn as sns\n",
    "%matplotlib inline\n",
    "#sns.set_context('poster')\n",
    "sns.set_color_codes()\n",
    "plot_kwds = {'alpha' : 0.25, 's' : 80, 'linewidths':0}"
   ]
  },
  {
   "cell_type": "markdown",
   "metadata": {},
   "source": [
    "## GMM"
   ]
  },
  {
   "cell_type": "markdown",
   "metadata": {},
   "source": [
    "A Gaussian mixture model is a probabilistic model that assumes all the data points are generated from a mixture of a finite number of Gaussian distributions with unknown parameters. After estimation of those parameters we get an estimation of the distribution of our data. For the clustering task, one can think of mixture models as generalizing k-means clustering to incorporate information about the covariance structure of the data as well as the centers of the latent Gaussians. \n",
    "\n",
    "### First part\n",
    "\n",
    "Fill in the following class to implement a multivariate GMM:"
   ]
  },
  {
   "cell_type": "code",
   "execution_count": 118,
   "metadata": {},
   "outputs": [],
   "source": [
    "class my_GMM():\n",
    "    \n",
    "    def __init__(self, k, tol=1e-2, init_strat=\"k_means\", thresholding_strategy=\"soft\"):\n",
    "        '''\n",
    "        Parameters:\n",
    "        k: integer\n",
    "            number of components\n",
    "        tol: float\n",
    "            convergence tolerance\n",
    "        init_strat: str\n",
    "            One of \"k_means\" or \"random\". Strategy used to initialize the parameters estimators.\n",
    "        \n",
    "        Attributes:\n",
    "        \n",
    "        alpha_: np.array\n",
    "            proportion of components\n",
    "        mu_: np.array\n",
    "            array containing means\n",
    "        Sigma_: np.array\n",
    "            array cointaining covariance matrix\n",
    "        cond_prob_: (n, K) np.array\n",
    "            conditional probabilities for all data points \n",
    "        labels_: (n, ) np.array\n",
    "            labels for data points\n",
    "        '''\n",
    "        self.k_ = k\n",
    "        self.tol_ = tol\n",
    "        self.init_strat_ = init_strat\n",
    "        self.thresholding_strategy_ = thresholding_strategy\n",
    "        self.alpha_ = None\n",
    "        self.mu_ = None\n",
    "        self.Sigma_ = None\n",
    "        self.cond_prob_ = None\n",
    "        self.labels_ = None\n",
    "    \n",
    "    def gauss_pfd(self, x_i, mu, sigma):\n",
    "        \"\"\"\n",
    "        Computes the PFD of a Gaussian of ârameters sigma and mu,\n",
    "        evaluated in point x_i\n",
    "        \n",
    "        Parameters:\n",
    "        -----------\n",
    "        x_i: (p, ) np.array\n",
    "            Point of evaluation\n",
    "        \n",
    "        mu: (p, ) np.array\n",
    "            Estimator of the mean\n",
    "            \n",
    "        sigma: (p, p) np.array\n",
    "            Variance matrix estimator\n",
    "        \n",
    "        Returns:\n",
    "        -----\n",
    "        Evaluation of the PFD\n",
    "        \"\"\"\n",
    "        C = 1/(np.sqrt(2 * np.pi * np.linalg.det(sigma)))\n",
    "        sigma_inv = np.linalg.pinv(sigma)\n",
    "        #print(C, sigma, np.linalg.det(sigma))\n",
    "        exp = np.exp(-0.5 * np.transpose(x_i - mu).dot(sigma_inv).dot(x_i - mu))\n",
    "        return C * exp\n",
    "        \n",
    "    def fit(self, X):\n",
    "        \"\"\" Find the parameters\n",
    "        that better fit the data\n",
    "        \n",
    "        Parameters:\n",
    "        -----------\n",
    "        X: (n, p) np.array\n",
    "            Data matrix\n",
    "        \n",
    "        Returns:\n",
    "        -----\n",
    "        self\n",
    "        \"\"\"    \n",
    "        self.has_converged = False\n",
    "        \n",
    "        # Initialize parameters estimators\n",
    "        self.alpha_, self.mu_, self.sigma_ = self.init_params(X, self.k_)\n",
    "        \n",
    "        itr = 0\n",
    "        while not self.has_converged and itr < 5:\n",
    "            itr += 1\n",
    "            # E-step: compute conditional probability matrix\n",
    "            self.cond_prob_ = self.compute_proba(X)\n",
    "            # M-step: update parameters estimators\n",
    "            new_alpha = self.update_alpha(cpm=self.cond_prob_)\n",
    "            new_mu = self.update_mu(X=X, cpm=self.cond_prob_, alpha=new_alpha)\n",
    "            new_sigma = self.update_sigma(X=X, cpm=self.cond_prob_, alpha=new_alpha, mu=new_mu)\n",
    "            \n",
    "            old_params = (self.alpha_, self.mu_, self.sigma_)\n",
    "            new_params = (new_alpha, new_mu, new_sigma)\n",
    "            \n",
    "            self.has_converged = self.evaluate_convergence(X, old_params=old_params, new_params=new_params)\n",
    "        \n",
    "        self.labels_ = self.predict(X)\n",
    "        return self\n",
    "        \n",
    "    def predict(self, X):\n",
    "        \"\"\" Predict labels for X\n",
    "        \n",
    "        Parameters:\n",
    "        -----------\n",
    "        X: (n, p) np.array\n",
    "            New data matrix\n",
    "        \n",
    "        Returns:\n",
    "        -----\n",
    "        label assigment        \n",
    "        \"\"\" \n",
    "        n= X.shape[0]\n",
    "        labels = np.zeros(shape=(n,))\n",
    "        cond_prob_mat = self.compute_proba(X)\n",
    "        \n",
    "        for i in range(n):\n",
    "            if self.thresholding_strategy_ == \"soft\":\n",
    "                labels[i] = np.argmax(np.random.multinomial(1, cond_prob_mat[i, :]))\n",
    "            else:\n",
    "                labels[i] = np.argmax(cond_prob_mat[i, :])\n",
    "        return labels\n",
    "    \n",
    "    def evaluate_convergence(self, X, old_params, new_params):\n",
    "        \"\"\"Returns wether the algorithm has converged\n",
    "        \"\"\"\n",
    "        return abs(self.log_likelihood(X, *old_params) - self.log_likelihood(X, *new_params)) <= self.tol_\n",
    "        \n",
    "    def compute_proba(self, X):\n",
    "        \"\"\" Compute probability vector for X\n",
    "        \n",
    "        Parameters:\n",
    "        -----------\n",
    "        X: (n, p) np.array\n",
    "            New data matrix\n",
    "        \n",
    "        Returns:\n",
    "        -----\n",
    "        proba: (n, k) np.array        \n",
    "        \"\"\"\n",
    "        mu = self.mu_\n",
    "        sigma = self.sigma_\n",
    "        alpha = self.alpha_\n",
    "        \n",
    "        n = X.shape[0]\n",
    "        k = self.k_\n",
    "\n",
    "        prob_matrix = np.zeros(shape=(n, k))\n",
    "\n",
    "        for i in range(n):\n",
    "            joint_law = 1e-3  # To prevent division by 0\n",
    "            x_i = X[i]\n",
    "            for j in range(k):\n",
    "                prob_matrix[i, j] = alpha[j] * self.gauss_pfd(x_i=x_i, mu=mu[j], sigma=sigma[j])\n",
    "                joint_law += prob_matrix[i, j]\n",
    "            prob_matrix[i, :] /= joint_law\n",
    "        \n",
    "        return prob_matrix\n",
    "    \n",
    "    def init_params(self, X, K):\n",
    "        \"\"\"Initialize parameters estimators\n",
    "        \n",
    "        Parameters:\n",
    "        -----------\n",
    "        X: (n, p) np.array\n",
    "            New data matrix\n",
    "        \n",
    "        K: int\n",
    "            Number of classes / clusters\n",
    "        \n",
    "        Returns:\n",
    "        -----\n",
    "        ((k,) np.array, (k, p) np.array, (k, p, p) np.array) tuple\n",
    "            Tuple of 3 np.arrays: (alpha0, mu0, sigma0)\n",
    "        \"\"\"        \n",
    "        n = X.shape[0]\n",
    "        p = X.shape[1]\n",
    "        \n",
    "        alpha0 = np.zeros(shape=(K, ))\n",
    "        mu0 = np.zeros(shape=(K, p))\n",
    "        sigma0 = np.zeros(shape=(K, p, p))\n",
    "        \n",
    "        if self.init_strat_ == \"k_means\":\n",
    "            from sklearn.cluster import KMeans\n",
    "            k_means = KMeans(n_clusters=K).fit(X)\n",
    "            X_labels = k_means.labels_\n",
    "            \n",
    "            cond_prob0 = np.zeros(shape=(n, K))\n",
    "            \n",
    "            for i in range(n):\n",
    "                cond_prob0[i, X_labels[i]] = 1\n",
    "            \n",
    "            alpha0 = self.update_alpha(cpm=cond_prob0)\n",
    "            mu0 = self.update_mu(cpm=cond_prob0, X=X, alpha=alpha0)\n",
    "            sigma0 = self.update_sigma(cpm=cond_prob0, X=X, alpha=alpha0, mu=mu0)\n",
    "        \n",
    "        else:\n",
    "            # Uniform initilization\n",
    "            cond_prob0 = (1/K) * np.ones(shape=(n, K))\n",
    "            \n",
    "            alpha0 = np.random.rand(K)\n",
    "            alpha0 /= np.sum(alpha0)\n",
    "            mu0 = np.random.rand(K,p)\n",
    "            sigma0 = np.array([np.eye(p,p)] * K)\n",
    "            \n",
    "            \n",
    "            #alpha0 = self.update_alpha(cpm=cond_prob0)\n",
    "            #mu0 = self.update_mu(cpm=cond_prob0, X=X, alpha=alpha0)\n",
    "            #sigma0 = self.update_sigma(cpm=cond_prob0, X=X, alpha=alpha0, mu=mu0)\n",
    "        \n",
    "        return (alpha0, mu0, sigma0)\n",
    "    \n",
    "    def update_alpha(self, cpm):\n",
    "        \"\"\"Returns the updated version of alpha (cluster proportion estimators)\n",
    "        \n",
    "        Parameters:\n",
    "        -----------\n",
    "        cpm: (n, k) np.array\n",
    "            Conditional probability matrix\n",
    "\n",
    "        Returns:\n",
    "        -----\n",
    "        (k,) np.array\n",
    "            The new estimators for cluster proportion\n",
    "        \"\"\"\n",
    "        n = cpm.shape[0]\n",
    "        k = cpm.shape[1]\n",
    "\n",
    "        new_alpha = np.zeros(shape=(k, ))\n",
    "\n",
    "        for j in range(k):\n",
    "            new_alpha[j] = np.sum(cpm[:, j]) / n\n",
    "\n",
    "        return new_alpha\n",
    "    \n",
    "    def update_mu(self, X, cpm, alpha):\n",
    "        \"\"\"Returns the updated version of mu (cluster mean estimators)\n",
    "        \n",
    "        Parameters:\n",
    "        -----------\n",
    "        X: (n, p) np.array\n",
    "            Data\n",
    "        \n",
    "        cpm: (n, k) np.array\n",
    "            Conditional probability matrix\n",
    "        \n",
    "        alpha: (k, ) np.array\n",
    "            Current estimators for the clusters' proportions\n",
    "        \n",
    "        Returns:\n",
    "        -----\n",
    "        (k, p) np.array\n",
    "            The new estimators for clusters' means\n",
    "        \"\"\"\n",
    "        n = cpm.shape[0]\n",
    "        k = cpm.shape[1]   \n",
    "        p = X.shape[1]\n",
    "\n",
    "        new_mu = np.zeros(shape=(k, p))\n",
    "\n",
    "        for j in range(k):\n",
    "            for i in range(n):\n",
    "                new_mu[j] += X[i] * cpm[i, j]\n",
    "            new_mu[j] /= (alpha[j] * n)\n",
    "\n",
    "        return new_mu\n",
    "\n",
    "    def update_sigma(self, X, cpm, alpha, mu):\n",
    "        \"\"\"Returns the updated version of mu (cluster mean estimators)\n",
    "        \n",
    "        Parameters:\n",
    "        -----------\n",
    "        X: (n, p) np.array\n",
    "            Data\n",
    "        \n",
    "        cpm: (n, k) np.array\n",
    "            Conditional probability matrix\n",
    "        \n",
    "        alpha: (k, ) np.array\n",
    "            Current estimators for the clusters' proportions\n",
    "        \n",
    "        mu: (k, p) np.array\n",
    "            Current estimators for the clusters' means\n",
    "        \n",
    "        Returns:\n",
    "        -----\n",
    "        (k, p, p) np.array\n",
    "            The new estimators for clusters' variances\n",
    "        \"\"\"\n",
    "        n = cpm.shape[0]\n",
    "        k = cpm.shape[1]\n",
    "        p = X.shape[1]\n",
    "        \n",
    "        new_sigma = np.zeros(shape=(k, p, p))\n",
    "        \n",
    "        for j in range(k):\n",
    "            for i in range(n):\n",
    "                deviation = X[i] - mu[j]\n",
    "                new_sigma[j] += np.matmul(deviation, np.transpose(deviation)) * cpm[i, j]\n",
    "            new_sigma[j] /= (alpha[j] * n)\n",
    "        \n",
    "        return new_sigma\n",
    "    \n",
    "    def log_likelihood(self, X, alpha, mu, sigma):\n",
    "        \"\"\"Returns whether the algorithm has converged\n",
    "        \n",
    "        Parameters:\n",
    "        -----------\n",
    "        X: (n, p) np.array\n",
    "            Data\n",
    "        \n",
    "        alpha: (k, ) np.array\n",
    "            Current estimators for the clusters' proportions\n",
    "        \n",
    "        mu: (k, p) np.array\n",
    "            Current estimators for the clusters' means\n",
    "            \n",
    "        sigma: (k, p, p) np.array\n",
    "            Current estimators for clusters' variances\n",
    "        \n",
    "        Returns:\n",
    "        -----\n",
    "        float\n",
    "            log-likelihood for the given parameters\n",
    "        \"\"\"\n",
    "        l = 0\n",
    "        n = X.shape[0]\n",
    "        k = alpha.shape[0]\n",
    "        \n",
    "        for i in range(n):\n",
    "            x_i = X[i]\n",
    "            inner = 0\n",
    "            for j in range(k):\n",
    "                inner += alpha[j] * self.gauss_pfd(x_i=x_i, mu=mu[j], sigma=sigma[j])\n",
    "            l += np.log(inner)\n",
    "        return l"
   ]
  },
  {
   "cell_type": "markdown",
   "metadata": {},
   "source": [
    "Generate your own mixture of Gaussian distributions to test the model, choose parameters so that GMM performs better than K-Means on it. Use `np.random.multivariate_normal`. \n",
    "\n",
    "Plot data with colors representing predicted labels and shapes representing real labels."
   ]
  },
  {
   "cell_type": "code",
   "execution_count": 33,
   "metadata": {},
   "outputs": [
    {
     "data": {
      "text/plain": [
       "<matplotlib.collections.PathCollection at 0x1be6d2daba8>"
      ]
     },
     "execution_count": 33,
     "metadata": {},
     "output_type": "execute_result"
    },
    {
     "data": {
      "image/png": "[encoded data removed]",
      "text/plain": [
       "<Figure size 432x288 with 1 Axes>"
      ]
     },
     "metadata": {
      "needs_background": "light"
     },
     "output_type": "display_data"
    }
   ],
   "source": [
    "X = []\n",
    "Y = []\n",
    "\n",
    "mu1 = 7 * np.random.rand(2)\n",
    "mu2 = 7 * np.random.rand(2)\n",
    "\n",
    "sigma = np.array([[2, 0], [0, 3]])\n",
    "\n",
    "for i in range(1000):\n",
    "    X.append(np.random.multivariate_normal(mean=mu1, cov=sigma))\n",
    "    Y.append(np.random.multivariate_normal(mean=mu2, cov=sigma))\n",
    "X = np.array(X)\n",
    "Y = np.array(Y)\n",
    "\n",
    "plt.scatter(X.T[0], X.T[1], marker='.')\n",
    "plt.scatter(Y.T[0], Y.T[1], marker='.')"
   ]
  },
  {
   "cell_type": "code",
   "execution_count": 40,
   "metadata": {},
   "outputs": [
    {
     "data": {
      "text/plain": [
       "(2000, 2)"
      ]
     },
     "execution_count": 40,
     "metadata": {},
     "output_type": "execute_result"
    }
   ],
   "source": [
    "X_ = np.concatenate((X, Y))\n",
    "X_.shape"
   ]
  },
  {
   "cell_type": "code",
   "execution_count": 100,
   "metadata": {},
   "outputs": [
    {
     "data": {
      "text/plain": [
       "[array([[1., 0.],\n",
       "        [0., 1.]]), array([[1., 0.],\n",
       "        [0., 1.]]), array([[1., 0.],\n",
       "        [0., 1.]]), array([[1., 0.],\n",
       "        [0., 1.]]), array([[1., 0.],\n",
       "        [0., 1.]]), array([[1., 0.],\n",
       "        [0., 1.]]), array([[1., 0.],\n",
       "        [0., 1.]]), array([[1., 0.],\n",
       "        [0., 1.]])]"
      ]
     },
     "execution_count": 100,
     "metadata": {},
     "output_type": "execute_result"
    }
   ],
   "source": [
    "X_[3]\n",
    "[np.eye(2,2)] * 8"
   ]
  },
  {
   "cell_type": "code",
   "execution_count": 119,
   "metadata": {},
   "outputs": [
    {
     "name": "stderr",
     "output_type": "stream",
     "text": [
      "C:\\Users\\sbran\\Anaconda3\\envs\\aml-tp4\\lib\\site-packages\\ipykernel_launcher.py:56: RuntimeWarning: divide by zero encountered in double_scalars\n"
     ]
    },
    {
     "name": "stdout",
     "output_type": "stream",
     "text": [
      "Has converged: False\n"
     ]
    }
   ],
   "source": [
    "gmm = my_GMM(k=2, init_strat=\"random\")\n",
    "gmm.fit(X_)\n",
    "print(\"Has converged:\", gmm.has_converged)"
   ]
  },
  {
   "cell_type": "code",
   "execution_count": 120,
   "metadata": {},
   "outputs": [
    {
     "data": {
      "text/plain": [
       "<matplotlib.collections.PathCollection at 0x1be713dc8d0>"
      ]
     },
     "execution_count": 120,
     "metadata": {},
     "output_type": "execute_result"
    },
    {
     "data": {
      "image/png": "[encoded data removed]",
      "text/plain": [
       "<Figure size 432x288 with 2 Axes>"
      ]
     },
     "metadata": {
      "needs_background": "light"
     },
     "output_type": "display_data"
    }
   ],
   "source": [
    "X_pred = []\n",
    "Y_pred = []\n",
    "for i, y in enumerate(gmm.labels_):\n",
    "    if not y:\n",
    "        X_pred.append(X_[i])\n",
    "    else:\n",
    "        Y_pred.append(X_[i])\n",
    "X_pred = np.array(X_pred)\n",
    "Y_pred = np.array(Y_pred)\n",
    "\n",
    "plt.subplot(121)\n",
    "plt.scatter(Y_pred.T[0], Y_pred.T[1], marker='.', alpha=0.5)\n",
    "plt.scatter(X_pred.T[0], X_pred.T[1], marker='.', alpha=0.5)\n",
    "\n",
    "plt.subplot(122)\n",
    "plt.scatter(X.T[0], X.T[1], marker='.', alpha=0.5)\n",
    "plt.scatter(Y.T[0], Y.T[1], marker='.', alpha=0.5)"
   ]
  },
  {
   "cell_type": "markdown",
   "metadata": {},
   "source": [
    "#### Bonus (not graded): Implement a mixture of asymmetric generalized Gaussians (AGGD)"
   ]
  },
  {
   "cell_type": "markdown",
   "metadata": {},
   "source": [
    "### Second Part\n",
    " \n",
    "To be updated"
   ]
  }
 ],
 "metadata": {
  "kernelspec": {
   "display_name": "Python 3",
   "language": "python",
   "name": "python3"
  },
  "language_info": {
   "codemirror_mode": {
    "name": "ipython",
    "version": 3
   },
   "file_extension": ".py",
   "mimetype": "text/x-python",
   "name": "python",
   "nbconvert_exporter": "python",
   "pygments_lexer": "ipython3",
   "version": "3.6.9"
  }
 },
 "nbformat": 4,
 "nbformat_minor": 2
}
