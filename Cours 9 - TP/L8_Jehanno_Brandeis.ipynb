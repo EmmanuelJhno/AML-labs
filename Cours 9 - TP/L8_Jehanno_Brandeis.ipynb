{
 "cells": [
  {
   "cell_type": "markdown",
   "metadata": {},
   "source": [
    "# Lab 8: Graphical Models"
   ]
  },
  {
   "cell_type": "markdown",
   "metadata": {},
   "source": [
    "The goal of this lab session is to code two methods to estimate the structure of undirected gaussian graphical models and compare them.\n",
    "\n",
    "You have to send the filled notebook named **\"L8_familyname1_familyname2.ipynb\"** (groups of 2) by email to aml.centralesupelec.2019@gmail.com before December 12, 2019 at 23:59 and put **\"AML-L8\"** as subject. \n",
    "\n",
    "We begin with the standard imports:"
   ]
  },
  {
   "cell_type": "code",
   "execution_count": 1,
   "metadata": {},
   "outputs": [],
   "source": [
    "import numpy as np\n",
    "import matplotlib.pyplot as plt\n",
    "import networkx as nx\n",
    "import sklearn\n",
    "%matplotlib inline\n",
    "plot_kwds = {'alpha' : 0.25, 's' : 80, 'linewidths':0}"
   ]
  },
  {
   "cell_type": "markdown",
   "metadata": {},
   "source": [
    "## Graphical Models"
   ]
  },
  {
   "cell_type": "markdown",
   "metadata": {},
   "source": [
    "A graphical model is a probabilistic model for which a graph expresses the conditional dependence structure between random variables. The variables are represented by nodes and the relations between them are represented by edges.\n",
    "\n",
    "### GLasso\n",
    "\n",
    "Graphical Lasso is the name of the optimization problem that estimates the precision matrix of a multivariate gaussian and its name comes from the direct link with graphical models and the regularization term. \n",
    "\n",
    "Fill in the following class that implements the GLasso algorithm optimized by ADMM:"
   ]
  },
  {
   "cell_type": "code",
   "execution_count": 90,
   "metadata": {},
   "outputs": [],
   "source": [
    "class my_GLasso():\n",
    "    \n",
    "    def __init__(self, alpha, mu, max_iter = 60, tol=1e-5):\n",
    "        '''\n",
    "        Parameters:\n",
    "        alpha : float\n",
    "            Penalization parameter selected.\n",
    "        mu: float>0\n",
    "\n",
    "        Attributes:\n",
    "        \n",
    "        covariance_ : numpy.ndarray, shape (n_features, n_features)\n",
    "            Estimated covariance matrix.\n",
    "        precision_ : numpy.ndarray, shape (n_features, n_features)\n",
    "            Estimated precision matrix (inverse covariance).\n",
    "        '''\n",
    "        self.covariance_ = None\n",
    "        self.precision_ = None\n",
    "        self.graph_structure_ = None\n",
    "\n",
    "        self.alpha_ = alpha\n",
    "        self.mu_ = mu\n",
    "        self.iter_max_ = max_iter\n",
    "        self.tol_ = tol\n",
    "        \n",
    "        self.history_ = None\n",
    "        \n",
    "    def update_precision_(self, S, Z, V, mu):\n",
    "        \"\"\"\n",
    "        Performs an update of the precision matrix P\n",
    "        \n",
    "        Arguments:\n",
    "        ----------\n",
    "        S: (n_features, n_features) numpy.ndarray\n",
    "            Empirical covariance matrix\n",
    "        \n",
    "        Z: (n_features, n_features) numpy.ndarray\n",
    "            Dual variable for precision matrix\n",
    "        \n",
    "        V: (n_features, n_features) numpy.ndarray\n",
    "            Duality jump\n",
    "        \n",
    "        mu: float > 0\n",
    "            \n",
    "        Returns:\n",
    "        --------\n",
    "        P: (n_features, n_features) numpy.ndarray\n",
    "            The precision matrix minimizing the gradient of Lagragian wrt P\n",
    "        \"\"\"\n",
    "        T = Z - V - (1/mu)*S\n",
    "        eig_values, eig_vectors = np.linalg.eig(T)\n",
    "        new_eig_values = (eig_values + np.sqrt(eig_values**2 + 4/mu))/2\n",
    "        return eig_vectors.T @ np.diag(new_eig_values) @ eig_vectors\n",
    "    \n",
    "    def update_dual_(self, P, S, V, alpha, mu):\n",
    "        \"\"\"\n",
    "        Performs an update of the precision matrix dual Z\n",
    "        \n",
    "        Arguments:\n",
    "        ----------\n",
    "        S: (n_features, n_features) numpy.ndarray\n",
    "            Empirical covariance matrix\n",
    "        \n",
    "        P: (n_features, n_features) numpy.ndarray\n",
    "            Precision matrix estimate\n",
    "        \n",
    "        V: (n_features, n_features) numpy.ndarray\n",
    "            Duality jump\n",
    "        \n",
    "        alpha: float > 0\n",
    "            Regularization parameter\n",
    "        \n",
    "        mu: float > 0\n",
    "            \n",
    "        Returns:\n",
    "        --------\n",
    "        Z: (n_features, n_features) numpy.ndarray\n",
    "            The dual precision matrix minimizing the gradient of Lagragian wrt Z\n",
    "        \"\"\"\n",
    "        return np.multiply(np.sign(P+V), np.maximum(0, np.absolute(P + V) - alpha/mu))\n",
    "    \n",
    "    def update_jump_(self, old_V, P, Z, mu):\n",
    "        \"\"\"\n",
    "        Updates the duality jump V\n",
    "        \n",
    "        Arguments:\n",
    "        ----------\n",
    "        old_V: (n_features, n_features) numpy.ndarray\n",
    "            Old duality jump\n",
    "        \n",
    "        P: (n_features, n_features) numpy.ndarray\n",
    "            Precision matrix estimate\n",
    "            \n",
    "        Z: (n_features, n_features) numpy.ndarray\n",
    "            Dual variable for precision matrix\n",
    "        \n",
    "        mu: float > 0\n",
    "        \n",
    "        Returns:\n",
    "        --------\n",
    "        (n_features, n_features) numpy.ndarray\n",
    "            New value for the duality jump\n",
    "        \"\"\"\n",
    "        return old_V + mu*(P-Z)\n",
    "        \n",
    "    def fit(self, X):\n",
    "        \"\"\" Fits the GraphicalLasso model to X.\n",
    "        \n",
    "        Parameters:\n",
    "        -----------\n",
    "        X: (n, p) np.array\n",
    "            Data matrix\n",
    "        \n",
    "        Returns:\n",
    "        -----\n",
    "        self\n",
    "        \"\"\"\n",
    "        n_samples, n_features = X.shape\n",
    "        \n",
    "        # Compute empirical estimators for esperance and covariance\n",
    "        esperance = np.mean(X, axis=0)\n",
    "        \n",
    "        # TODO - optimize this calculation\n",
    "        S = np.zeros((n_features, n_features))\n",
    "        for i in range(n_samples):\n",
    "            dev = (X[i] - esperance).reshape(-1,1)\n",
    "            S += dev@dev.T\n",
    "        S /= (2*n_samples)\n",
    "        \n",
    "        # Initialize latent variable to definite positive symetric matrices\n",
    "        Zn = np.eye(n_features)\n",
    "        Vn = np.eye(n_features)\n",
    "        Pn = np.eye(n_features)\n",
    "        \n",
    "        self.history_ = {\n",
    "            \"precision\": [Pn],\n",
    "            \"dual\": [Zn],\n",
    "            \"jump\": [Vn],\n",
    "        }\n",
    "                \n",
    "        converged = False\n",
    "        itr = 0\n",
    "        \n",
    "        while itr < self.iter_max_ and not converged:\n",
    "            \n",
    "            Pnp1 = self.update_precision_(S, Zn, Vn, self.mu_)\n",
    "            Znp1 = self.update_dual_(Pnp1, S, Vn, self.alpha_, self.mu_)\n",
    "            Vnp1 = self.update_jump_(Vn, Pnp1, Znp1, self.mu_)\n",
    "            \n",
    "            converged = np.linalg.norm(Pn - Pnp1) < self.tol_ * np.linalg.norm(Pn)\n",
    "        \n",
    "            Pn = Pnp1\n",
    "            Vn = Vnp1\n",
    "            Zn = Znp1\n",
    "            \n",
    "            self.history_[\"precision\"].append(Pn)\n",
    "            self.history_[\"dual\"].append(Zn)\n",
    "            self.history_[\"jump\"].append(Vn)\n",
    "            itr += 1\n",
    "        \n",
    "        self.precision_ = self.graph_structure_ = Zn\n",
    "        self.covariance_ = np.linalg.inv(Zn)\n",
    "        \n",
    "        return self        \n",
    "    \n",
    "    def get_params(self, deep=True):\n",
    "        return {\n",
    "            \"alpha\": self.alpha_,\n",
    "            \"mu\": self.mu_,\n",
    "            \"max_iter\": self.iter_max_,\n",
    "            \"tol\": self.tol_\n",
    "        }\n",
    "    \n",
    "    def set_params(self, **params):\n",
    "        if \"alpha\" in params:\n",
    "            self.alpha_ = params[\"alpha\"]\n",
    "        if \"mu\" in params:\n",
    "            self.mu_ = params[\"mu\"]\n",
    "        return self"
   ]
  },
  {
   "cell_type": "markdown",
   "metadata": {},
   "source": [
    "### Nodewise Regression\n",
    "\n",
    "Fill in the following class that implements the nodewise regression algorithm to estimate a graphical model structure. You can use `LassoCV` for the regressions. Bonus (not graded): Implement your own cross-validation lasso."
   ]
  },
  {
   "cell_type": "code",
   "execution_count": 23,
   "metadata": {},
   "outputs": [],
   "source": [
    "from sklearn.linear_model import LassoCV\n",
    "\n",
    "class my_nodewise_regression():\n",
    "    \n",
    "    def __init__(self, rule, alpha):\n",
    "        '''\n",
    "        Parameters:\n",
    "        \n",
    "        rule: {\"OR\", \"AND\"}\n",
    "        alpha: float\n",
    "            regularization parameter\n",
    "        \n",
    "        Attributes:\n",
    "        \n",
    "        covariance_structure_ : numpy.ndarray, shape (n_features, n_features)\n",
    "            Estimated covariance matrix.        \n",
    "        '''\n",
    "        self.graph_structure_ = None\n",
    "        self.rule_ = rule\n",
    "        self.alpha_ = alpha\n",
    "        \n",
    "    def fit(self, X):\n",
    "        \"\"\" Fit the model to X.\n",
    "        \n",
    "        Parameters:\n",
    "        -----------\n",
    "        X: (n, p) np.array\n",
    "            Data matrix\n",
    "        \n",
    "        Returns:\n",
    "        -----\n",
    "        self\n",
    "        \"\"\"\n",
    "        n_features = X.shape[1]\n",
    "        beta = np.zeros((n_features, n_features))\n",
    "        for j in range(n_features):\n",
    "            y = X[:, j]#.reshape(-1,1)\n",
    "            x = np.delete(X, j, axis=1)\n",
    "            regressor = sklearn.linear_model.Lasso(alpha=self.alpha_)\n",
    "            regressor.fit(X=x, y=y)\n",
    "            beta[j, :j], beta[j, j+1:] = regressor.coef_[:j], regressor.coef_[j:]\n",
    "        \n",
    "        domain_estimate = beta > 1e-7\n",
    "        \n",
    "        if self.rule_ == \"OR\":\n",
    "            beta = np.absolute(beta) > 0.\n",
    "            adj = beta | beta.T\n",
    "        \n",
    "        elif self.rule_ == \"AND\":\n",
    "            beta = np.absolute(beta) > 0.\n",
    "            adj = beta & beta.T\n",
    "        \n",
    "        self.graph_structure_ =self.precision_ = adj\n",
    "        return self"
   ]
  },
  {
   "cell_type": "markdown",
   "metadata": {},
   "source": [
    "Generate an easy-to-check (non-trivial, p<=6) example and plot the 4 (real, GLasso, AND, OR) graphs. You can use `networkx` to plot the resulting graph."
   ]
  },
  {
   "cell_type": "code",
   "execution_count": 91,
   "metadata": {},
   "outputs": [
    {
     "name": "stderr",
     "output_type": "stream",
     "text": [
      "C:\\Users\\sbran\\Anaconda3\\envs\\aml-tp4\\lib\\site-packages\\ipykernel_launcher.py:9: RuntimeWarning: covariance is not symmetric positive-semidefinite.\n",
      "  if __name__ == '__main__':\n"
     ]
    }
   ],
   "source": [
    "mu=[0., 5., -5.]\n",
    "cov =np.array([\n",
    "    [1., 2., 0.],\n",
    "    [2., 1., 0.],\n",
    "    [0., 0., 1.]\n",
    "])\n",
    "#cov = cov.T@cov\n",
    "\n",
    "X = np.array([np.random.multivariate_normal(mu, cov) for _ in range(25)])\n",
    "precision = np.linalg.inv(cov)\n"
   ]
  },
  {
   "cell_type": "code",
   "execution_count": 92,
   "metadata": {},
   "outputs": [
    {
     "data": {
      "text/plain": [
       "<__main__.my_nodewise_regression at 0x1ad41ea2c88>"
      ]
     },
     "execution_count": 92,
     "metadata": {},
     "output_type": "execute_result"
    }
   ],
   "source": [
    "model_glasso = my_GLasso(alpha=0.4, mu=1)\n",
    "model_glasso.fit(X)\n",
    "\n",
    "model_nor = my_nodewise_regression(rule=\"OR\", alpha=1)\n",
    "model_nor.fit(X)\n",
    "\n",
    "model_nand = my_nodewise_regression(rule=\"AND\", alpha=1)\n",
    "model_nand.fit(X)"
   ]
  },
  {
   "cell_type": "code",
   "execution_count": 93,
   "metadata": {},
   "outputs": [],
   "source": [
    "def draw(model, node_labels=True, edge_labels=True):\n",
    "    K = model.graph_structure_\n",
    "    draw_precision(K, node_labels=node_labels, edge_labels=edge_labels)\n",
    "\n",
    "def draw_precision(K, node_labels=True, edge_labels=True):\n",
    "    G = nx.Graph()\n",
    "    G.add_nodes_from(range(K.shape[0]))\n",
    "\n",
    "    nonzeros = list(zip(*np.nonzero(K), [{\"weight\": K[nz]} for nz in zip(*np.nonzero(K))]))\n",
    "    G.add_edges_from(nonzeros)\n",
    "\n",
    "    pos = nx.circular_layout(G)\n",
    "    nx.draw_networkx_nodes(G, pos, alpha=0.8)\n",
    "    nx.draw_networkx_edges(G, pos, label=None, alpha=0.5)\n",
    "    if node_labels:\n",
    "        nx.draw_networkx_labels(G, pos)\n",
    "    if edge_labels:\n",
    "        edge_labels = {(u, v): \"{:.3f}\".format(d) for (u,v,d) in G.edges(data=\"weight\") if u != v}\n",
    "        nx.draw_networkx_edge_labels(G, pos, edge_labels)"
   ]
  },
  {
   "cell_type": "code",
   "execution_count": 94,
   "metadata": {},
   "outputs": [
    {
     "data": {
      "image/png": "[encoded data removed]",
      "text/plain": [
       "<Figure size 720x720 with 4 Axes>"
      ]
     },
     "metadata": {},
     "output_type": "display_data"
    }
   ],
   "source": [
    "plt.figure(figsize=(10,10))\n",
    "\n",
    "plt.subplot(221)\n",
    "draw_precision(precision)\n",
    "plt.title(\"True GGM\")\n",
    "plt.subplot(222)\n",
    "draw(model_glasso)\n",
    "plt.title(\"GLasso\")\n",
    "plt.subplot(223)\n",
    "draw(model_nand)\n",
    "plt.title(\"Nodewise regression - AND\")\n",
    "plt.subplot(224)\n",
    "draw(model_nor)\n",
    "plt.title(\"Nodewise regression - OR\")\n",
    "plt.show()"
   ]
  },
  {
   "cell_type": "markdown",
   "metadata": {},
   "source": [
    "## Simulations\n",
    "\n",
    "Compare the two graph estimators for the following model with $p = 300$ and $n = 40, 80, 320$:\n",
    "\n",
    "- An AR(1)-Block model. In this model the *covariance* matrix is block-diagonal with equalsized AR(1)-blocks of the form $(\\Sigma_{Block})_{i, j} = 0.9^{|i−j|}$, take $30 \\times 30$ blocks.\n",
    "\n",
    "Report accuracy and F1 score for the edge estimation.\n",
    "\n",
    "For GLasso estimation, use cross-validation k-fold with loglikelihood loss to select the $\\lambda$ penalization parameter.\n",
    "\n",
    "Measure the estimation error of the GLasso matrix result."
   ]
  },
  {
   "cell_type": "code",
   "execution_count": 95,
   "metadata": {},
   "outputs": [],
   "source": [
    "import scipy as scp\n",
    "from sklearn.metrics import f1_score, accuracy_score\n",
    "from sklearn.model_selection import GridSearchCV"
   ]
  },
  {
   "cell_type": "markdown",
   "metadata": {},
   "source": [
    "### Data generation"
   ]
  },
  {
   "cell_type": "code",
   "execution_count": 96,
   "metadata": {},
   "outputs": [],
   "source": [
    "nb_blocks = 10\n",
    "block_size = 30\n",
    "n = 80"
   ]
  },
  {
   "cell_type": "code",
   "execution_count": 97,
   "metadata": {},
   "outputs": [],
   "source": [
    "block = [[0.9**(abs(i - j)) for i in range(block_size)] for j in range(block_size)]\n",
    "cov = scp.linalg.block_diag(*[block]*nb_blocks)\n",
    "precision = np.linalg.inv(cov)"
   ]
  },
  {
   "cell_type": "code",
   "execution_count": 98,
   "metadata": {},
   "outputs": [],
   "source": [
    "X = np.array([np.random.multivariate_normal(np.ones((nb_blocks * block_size,)), cov) for _ in range(n)])"
   ]
  },
  {
   "cell_type": "markdown",
   "metadata": {},
   "source": [
    "### Defining metrics"
   ]
  },
  {
   "cell_type": "code",
   "execution_count": 99,
   "metadata": {},
   "outputs": [],
   "source": [
    "def edge_f1(model_precision, real_precision):\n",
    "    assert model_precision.shape[0] == real_precision.shape[0]\n",
    "    assert model_precision.shape[1] == real_precision.shape[1]\n",
    "    \n",
    "    n = model_precision.shape[0]\n",
    "    triu_indices = np.triu_indices(n)\n",
    "    \n",
    "    model_edges = np.absolute(model_precision[triu_indices]) > 1e-7\n",
    "    real_edges = np.absolute(real_precision[triu_indices]) > 1e-7\n",
    "    \n",
    "    acc = accuracy_score(y_true=real_edges, y_pred=model_edges)\n",
    "    f1 = f1_score(y_true=real_edges, y_pred=model_edges)\n",
    "    return acc, f1"
   ]
  },
  {
   "cell_type": "code",
   "execution_count": 125,
   "metadata": {},
   "outputs": [],
   "source": [
    "def normal_log_likelihood(estimator, X, y=None):\n",
    "    n_samples, n_features = X.shape\n",
    "    precision = estimator.precision_\n",
    "    det = np.linalg.det(precision)\n",
    "    if det < 1e-3:\n",
    "        det = 1e-3\n",
    "    elif det > 1e3:\n",
    "        det = 1e3\n",
    "    \n",
    "    esperance = X.mean(axis=0)\n",
    "    S = np.zeros((n_features, n_features))\n",
    "    for i in range(n_samples):\n",
    "        dev = (X[i] - esperance).reshape(-1,1)\n",
    "        S += dev@dev.T\n",
    "    S /= n_samples\n",
    "    \n",
    "    return np.log(det) - np.trace(S@precision)"
   ]
  },
  {
   "cell_type": "markdown",
   "metadata": {},
   "source": [
    "### Model training"
   ]
  },
  {
   "cell_type": "markdown",
   "metadata": {},
   "source": [
    "##### GLasso - Model selection"
   ]
  },
  {
   "cell_type": "code",
   "execution_count": 137,
   "metadata": {},
   "outputs": [],
   "source": [
    "exploration_space = np.linspace(1e-4, 1, 100)\n",
    "\n",
    "clf = GridSearchCV(estimator=my_GLasso(alpha=1, mu=[10]), \n",
    "                   param_grid={\"alpha\": exploration_space, \"mu\": [1]},\n",
    "                   scoring=normal_log_likelihood, iid=False,\n",
    "                   cv=3, n_jobs=3)"
   ]
  },
  {
   "cell_type": "code",
   "execution_count": 138,
   "metadata": {},
   "outputs": [
    {
     "name": "stdout",
     "output_type": "stream",
     "text": [
      "Grid searched best params: {'alpha': 0.9697272727272728, 'mu': 1}\n",
      "Grid searched best score: -42.70266285459676\n"
     ]
    }
   ],
   "source": [
    "clf.fit(X)\n",
    "print(\"Grid searched best params:\", clf.best_params_)\n",
    "print(\"Grid searched best score:\", clf.best_score_)"
   ]
  },
  {
   "cell_type": "code",
   "execution_count": 139,
   "metadata": {},
   "outputs": [
    {
     "data": {
      "text/plain": [
       "{'alpha': 0.9697272727272728, 'mu': 1, 'max_iter': 60, 'tol': 1e-05}"
      ]
     },
     "execution_count": 139,
     "metadata": {},
     "output_type": "execute_result"
    }
   ],
   "source": [
    "model_glasso = clf.best_estimator_\n",
    "model_glasso.fit(X)\n",
    "model_glasso.get_params()"
   ]
  },
  {
   "cell_type": "markdown",
   "metadata": {},
   "source": [
    "##### Nodewise regression"
   ]
  },
  {
   "cell_type": "code",
   "execution_count": 140,
   "metadata": {},
   "outputs": [
    {
     "data": {
      "text/plain": [
       "<__main__.my_nodewise_regression at 0x1ad42083c88>"
      ]
     },
     "execution_count": 140,
     "metadata": {},
     "output_type": "execute_result"
    }
   ],
   "source": [
    "model_nodewise_or = my_nodewise_regression(rule=\"OR\", alpha=1)\n",
    "model_nodewise_or.fit(X)\n",
    "\n",
    "model_nodewise_and = my_nodewise_regression(rule=\"AND\", alpha=1)\n",
    "model_nodewise_and.fit(X)"
   ]
  },
  {
   "cell_type": "markdown",
   "metadata": {},
   "source": [
    "### Model evaluation"
   ]
  },
  {
   "cell_type": "code",
   "execution_count": 141,
   "metadata": {},
   "outputs": [
    {
     "name": "stdout",
     "output_type": "stream",
     "text": [
      "--------- GLasso ---------\n",
      "F1 Score:                     0.039265993641586255\n",
      "Acc. score:                   0.6184939091915836\n",
      "Error (Frobenius):   87.15595433378978\n"
     ]
    }
   ],
   "source": [
    "acc, f1 = edge_f1(model_glasso.precision_, precision)\n",
    "print(\"--------- GLasso ---------\")\n",
    "print(\"F1 Score:                    \", f1)\n",
    "print(\"Acc. score:                  \", acc)\n",
    "print(\"Error (Frobenius):  \", np.linalg.norm(model_glasso.precision_, \"fro\"))"
   ]
  },
  {
   "cell_type": "code",
   "execution_count": 142,
   "metadata": {},
   "outputs": [
    {
     "name": "stdout",
     "output_type": "stream",
     "text": [
      "--------- Nodewise AND ---------\n",
      "F1 Score:                     0.08441558441558442\n",
      "Acc. score:                   0.9875083056478405\n"
     ]
    }
   ],
   "source": [
    "acc, f1 = edge_f1(model_nodewise_and.precision_, precision)\n",
    "print(\"--------- Nodewise AND ---------\")\n",
    "print(\"F1 Score:                    \", f1)\n",
    "print(\"Acc. score:                  \", acc)"
   ]
  },
  {
   "cell_type": "code",
   "execution_count": 143,
   "metadata": {},
   "outputs": [
    {
     "name": "stdout",
     "output_type": "stream",
     "text": [
      "--------- Nodewise OR ---------\n",
      "F1 Score:                     0.18125960061443933\n",
      "Acc. score:                   0.9881949058693245\n"
     ]
    }
   ],
   "source": [
    "acc, f1 = edge_f1(model_nodewise_or.precision_, precision)\n",
    "print(\"--------- Nodewise OR ---------\")\n",
    "print(\"F1 Score:                    \", f1)\n",
    "print(\"Acc. score:                  \", acc)"
   ]
  },
  {
   "cell_type": "code",
   "execution_count": null,
   "metadata": {},
   "outputs": [],
   "source": []
  }
 ],
 "metadata": {
  "kernelspec": {
   "display_name": "Python 3",
   "language": "python",
   "name": "python3"
  },
  "language_info": {
   "codemirror_mode": {
    "name": "ipython",
    "version": 3
   },
   "file_extension": ".py",
   "mimetype": "text/x-python",
   "name": "python",
   "nbconvert_exporter": "python",
   "pygments_lexer": "ipython3",
   "version": "3.6.9"
  }
 },
 "nbformat": 4,
 "nbformat_minor": 2
}
