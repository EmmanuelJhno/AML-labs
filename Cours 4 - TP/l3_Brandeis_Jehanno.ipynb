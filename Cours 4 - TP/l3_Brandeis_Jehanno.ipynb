{
 "cells": [
  {
   "cell_type": "markdown",
   "metadata": {},
   "source": [
    "# Lab 3: Stochastic Gradient Descent"
   ]
  },
  {
   "cell_type": "markdown",
   "metadata": {},
   "source": [
    "The goal of this lab session is to code an optimization algorithm that optimzes the penalized loss function of the logistic regression model.\n",
    "\n",
    "You have to send the filled notebook named **\"L3_familyname1_familyname2.ipynb\"** (groups of 2) by email to aml.centralesupelec.2019@gmail.com by October 17, 2019. Please put **\"AML-L3\"** in the subject. \n",
    "\n",
    "We begin with the standard imports:"
   ]
  },
  {
   "cell_type": "code",
   "execution_count": 20,
   "metadata": {},
   "outputs": [],
   "source": [
    "%matplotlib inline\n",
    "import matplotlib.pyplot as plt\n",
    "import seaborn as sns; sns.set()\n",
    "import numpy as np\n",
    "import pandas as pd"
   ]
  },
  {
   "cell_type": "markdown",
   "metadata": {},
   "source": [
    "We import the dataset that we are going to use, an indian dataset including in the last column information about the diabetes status of patients:"
   ]
  },
  {
   "cell_type": "code",
   "execution_count": 21,
   "metadata": {},
   "outputs": [],
   "source": [
    "from sklearn import model_selection\n",
    "\n",
    "diabetes_data = pd.read_csv(\"diabetes_data.csv\", sep=\",\")\n",
    "\n",
    "avg = np.mean(diabetes_data.iloc[:, :-1].values)\n",
    "std = np.mean(diabetes_data.iloc[:, :-1].values)\n",
    "\n",
    "diabetes_train, diabetes_test = model_selection.train_test_split(diabetes_data)\n",
    "diabetes_train_x = diabetes_train.iloc[:, :-1].values\n",
    "diabetes_train_y = diabetes_train.iloc[:, -1].values\n",
    "diabetes_train_y[diabetes_train_y == 0] = -1\n",
    "\n",
    "diabetes_test_x = diabetes_test.iloc[:, :-1].values\n",
    "diabetes_test_y = diabetes_test.iloc[:, -1].values\n",
    "diabetes_test_y[diabetes_test_y == 0] = -1"
   ]
  },
  {
   "cell_type": "code",
   "execution_count": 22,
   "metadata": {},
   "outputs": [],
   "source": [
    "diabetes_train_x = (diabetes_train_x - avg)/std\n",
    "diabetes_test_x = (diabetes_test_x - avg)/std"
   ]
  },
  {
   "cell_type": "markdown",
   "metadata": {},
   "source": [
    "## Logistic Regression\n",
    "\n"
   ]
  },
  {
   "cell_type": "markdown",
   "metadata": {},
   "source": [
    "Today we’ll be moving from linear regression to logistic regression, one of the simplest ways to deal with a classification problem. Instead of fitting a line, logistic regression models the probability that the outcome is 1 given the value of the predictor. In order to do this we need a function that transforms our predictor variable to a value between 0 and 1. Lots of functions can do that, but the logistic function is the most common choice:\n",
    "\n",
    "$$f(z) = \\frac{1}{1+\\exp{-z}}.$$\n",
    "\n",
    "To predict the class of our observations we'll have to minimize the corresponding loss function and as we are in a high-dimensional context we'll add an $l_2$ regularization to the model:\n",
    "\n",
    "$$F(\\textbf{w}) = \\sum_{i=1}^n log(1+\\exp(-y_i\\textbf{w}^Tx_i))+\\frac{\\lambda}{2} \\| \\textbf{w} \\|^2,$$\n",
    "\n",
    "where $x_i$ is the vector of features for the observation $i$ and $y_i \\in \\{-1, 1\\}$ is the class label.  \n"
   ]
  },
  {
   "cell_type": "markdown",
   "metadata": {},
   "source": [
    "We first use the `sklearn` implementation:"
   ]
  },
  {
   "cell_type": "code",
   "execution_count": 23,
   "metadata": {},
   "outputs": [
    {
     "name": "stderr",
     "output_type": "stream",
     "text": [
      "C:\\Users\\sbran\\Anaconda3\\envs\\aml-tp3\\lib\\site-packages\\sklearn\\linear_model\\logistic.py:432: FutureWarning: Default solver will be changed to 'lbfgs' in 0.22. Specify a solver to silence this warning.\n",
      "  FutureWarning)\n"
     ]
    }
   ],
   "source": [
    "from sklearn.linear_model import LogisticRegression\n",
    "model = LogisticRegression(penalty=\"l2\", C=2) \n",
    "model.fit(diabetes_train_x, diabetes_train_y)\n",
    "y_pred = model.predict(diabetes_test_x)"
   ]
  },
  {
   "cell_type": "markdown",
   "metadata": {},
   "source": [
    "and we compute the accuracy score to evaluate the model performance:"
   ]
  },
  {
   "cell_type": "code",
   "execution_count": 24,
   "metadata": {},
   "outputs": [
    {
     "data": {
      "text/plain": [
       "0.796875"
      ]
     },
     "execution_count": 24,
     "metadata": {},
     "output_type": "execute_result"
    }
   ],
   "source": [
    "from sklearn.metrics import accuracy_score\n",
    "accuracy_score(diabetes_test_y, y_pred)"
   ]
  },
  {
   "cell_type": "markdown",
   "metadata": {},
   "source": [
    "Given that the classes balance is :"
   ]
  },
  {
   "cell_type": "code",
   "execution_count": 25,
   "metadata": {},
   "outputs": [
    {
     "name": "stdout",
     "output_type": "stream",
     "text": [
      "Class -1 is represented by 66.7% of the data.\n",
      "Class 1 is represented by 33.3% of the data.\n"
     ]
    }
   ],
   "source": [
    "stats = np.unique(diabetes_test_y,return_counts=True)\n",
    "for index in range(len(stats[0])):\n",
    "    print(\"Class {0} is represented by {1:.1f}% of the data.\".format(stats[0][index],\n",
    "                                                                     stats[1][index]*100/np.sum(stats[1])))"
   ]
  },
  {
   "cell_type": "markdown",
   "metadata": {},
   "source": [
    "### Assignment\n",
    "\n",
    "Implement from scratch your own logistic regression model with stochastic gradient descent optimization. \n",
    "\n",
    "- Fill in the class\n",
    "\n",
    "- Display the evolution of the cost function along iterations. Do this for several strategies for the setting of the learning rate\n",
    "\n",
    "- Try the different acceleration strategies\n",
    "\n",
    "- Train the model with the training set and evaluate its performance in the test set"
   ]
  },
  {
   "cell_type": "markdown",
   "metadata": {},
   "source": [
    "The gradient of F is :\n",
    "\n",
    "$$\\nabla F(\\textbf{w}) = \\sum_{i=1}^n \\frac{-y_i*\\textbf{x}_i}{1+\\exp(-y_i\\textbf{w}^T\\textbf{x}_i)}+\\lambda*\\textbf{w},$$\n",
    "\n",
    "Where $\\lambda$ is the regularization of the model : it prevents the model from overfitting the data by imposing low values of the model's coefficients."
   ]
  },
  {
   "cell_type": "markdown",
   "metadata": {},
   "source": [
    "We can also write F using a decomposition $$F(\\textbf{w})=\\sum_{i=1}^n f_i(\\textbf{w})$$ with $$f_i(\\textbf{w})=log(1+\\exp(-y_i\\textbf{w}^Tx_i))+\\frac{\\lambda}{2*n} \\| \\textbf{w} \\|^2,$$"
   ]
  },
  {
   "cell_type": "code",
   "execution_count": 76,
   "metadata": {},
   "outputs": [],
   "source": [
    "class StochasticLogisticRegression():\n",
    "    \"\"\" Class for logistic regression:\n",
    "    \n",
    "    Attributes:\n",
    "    -----------\n",
    "    coef_: 1-dimensional np.array\n",
    "        coefficients \n",
    "    alpha_: float\n",
    "        regularization parameter\n",
    "    lr_: float\n",
    "        the learning rate\n",
    "    bsize: integer\n",
    "        the size of the mini-batch >=1\n",
    "    coef_history_: list\n",
    "        the list of all visited betas\n",
    "    f_history_: list \n",
    "        the list of all evaluations in visited betas\n",
    "    \"\"\"\n",
    "    def __init__(self, reg, lr=1e-3, grad_avg=False, batch_size=50, max_iter=500, tol=1e-6):\n",
    "        self.coef_  = None\n",
    "        self.tol_ = tol\n",
    "        self.reg_ = reg\n",
    "        self.max_iter_ = max_iter\n",
    "        self.has_converged_ = False\n",
    "        \n",
    "        \n",
    "        self.grad_avg_ = grad_avg\n",
    "        self.lr_ = lr\n",
    "        self.batch_size_ = batch_size\n",
    "        \n",
    "        self.grad_sum_ = 0\n",
    "        self.coef_history_ = []\n",
    "        self.f_history_ = []\n",
    "\n",
    "    def logistic(self, z):\n",
    "        # logistic function\n",
    "        return 1/(1+np.exp(-z)) \n",
    "    \n",
    "    def gradient(self, coef, batch, X, y, itr, grad_avg=False):\n",
    "        n = X.shape[0]\n",
    "        grad = 0\n",
    "        \n",
    "        for sample_idx in batch:\n",
    "            y_i = y[sample_idx]\n",
    "            x_i = X[sample_idx]\n",
    "            exp = np.exp(-y_i * np.matmul(np.transpose(coef), x_i))\n",
    "            grad += - y_i * x_i * exp / (1 + exp) + self.reg_*coef / n\n",
    "            \n",
    "        if grad_avg:\n",
    "            grad += self.grad_sum_\n",
    "            self.grad_sum_ = grad\n",
    "            grad /= itr\n",
    "        \n",
    "        return grad\n",
    "    \n",
    "    def loss(self, coef, X, y):\n",
    "        F = 0\n",
    "        for i in range(X.shape[0]):\n",
    "            F += np.log(1 + np.exp(-y[i]*np.matmul(np.transpose(X[i]), coef)))\n",
    "\n",
    "        return F + self.reg_ * 0.5 * np.matmul(np.transpose(coef), coef)\n",
    "\n",
    "    def fit(self, X, y, start):\n",
    "        \"\"\" Fit the data (X, y).\n",
    "    \n",
    "        Parameters:\n",
    "        -----------\n",
    "        X: (num_samples, num_features) np.array\n",
    "            Design matrix\n",
    "        y: (num_sampes, ) np.array\n",
    "            Output vector\n",
    "        \n",
    "        Note:\n",
    "        -----\n",
    "        Updates self.coef_\n",
    "        \"\"\"\n",
    "        \n",
    "        self.coef_ = start\n",
    "        self.coef_history_.append(self.coef_)\n",
    "        self.f_history_.append(self.loss(coef=self.coef_, X=X, y=y))\n",
    "        \n",
    "        # Batches creation\n",
    "        batches = []\n",
    "        indexes = list(range(X.shape[0]))\n",
    "        while len(indexes) > 0:\n",
    "            batch = []\n",
    "            while len(batch) < self.batch_size_ and len(indexes) > 0:\n",
    "                i = np.random.randint(low=0,high=len(indexes),size=1)[0]\n",
    "                batch.append(indexes.pop(i))\n",
    "            batches.append(batch)\n",
    "            \n",
    "            \n",
    "        itr = 0\n",
    "        while itr < self.max_iter_ and not self.has_converged_: # critere de convergence\n",
    "            itr += 1\n",
    "            lr = max(self.lr_ / itr, 1e-3)\n",
    "            coef_np1 = self.coef_ - lr * self.gradient(coef=self.coef_, \n",
    "                                                       X=X, y=y, \n",
    "                                                       itr=itr, \n",
    "                                                       grad_avg=self.grad_avg_, \n",
    "                                                       batch=batches[itr%len(batches)])\n",
    "\n",
    "            fn = self.f_history_[-1]\n",
    "            fnp1 = self.loss(X=X, y=y, coef=coef_np1)\n",
    "            \n",
    "            if (fn - fnp1)/fnp1 <= self.tol_:\n",
    "                self.has_converged_ = True\n",
    "            # Update the memory\n",
    "            self.coef_ = coef_np1\n",
    "            self.coef_history_.append(self.coef_)\n",
    "            self.f_history_.append(fnp1)\n",
    "            \n",
    "         \n",
    "    def predict(self, X):\n",
    "        \"\"\" Make binary predictions for data X.\n",
    "    \n",
    "        Parameters:\n",
    "        -----------\n",
    "        X: (num_samples, num_features) np.array\n",
    "            Design matrix\n",
    "        \n",
    "        Returns:\n",
    "        -----\n",
    "        y_pred: (num_samples, ) np.array\n",
    "            Predictions (0 or 1)\n",
    "        \"\"\"\n",
    "        y_pred = self.logistic(np.matmul(X, self.coef_)) > 0.5\n",
    "        y_pred = y_pred.astype(int) # y_pred = 0 or 1 according to the probability\n",
    "        y_pred = y_pred*2 - 1 # the classes are -1 or 1\n",
    "        \n",
    "        return y_pred"
   ]
  },
  {
   "cell_type": "code",
   "execution_count": 77,
   "metadata": {},
   "outputs": [],
   "source": [
    "class StochasticAverageLogisticRegression():\n",
    "    \"\"\" Class for logistic regression:\n",
    "    \n",
    "    Attributes:\n",
    "    -----------\n",
    "    coef_: 1-dimensional np.array\n",
    "        coefficients \n",
    "    alpha_: float\n",
    "        regularization parameter\n",
    "    lr_: float\n",
    "        the learning rate\n",
    "    bsize: integer\n",
    "        the size of the mini-batch >=1\n",
    "    coef_history_: list\n",
    "        the list of all visited betas\n",
    "    f_history_: list \n",
    "        the list of all evaluations in visited betas\n",
    "    \"\"\"\n",
    "    def __init__(self, reg, lr=1e-3, grad_avg=False, batch_size=50, max_iter=500, tol=1e-6):\n",
    "        self.coef_  = None\n",
    "        self.tol_ = tol\n",
    "        self.reg_ = reg\n",
    "        self.max_iter_ = max_iter\n",
    "        self.has_converged_ = False\n",
    "        \n",
    "        \n",
    "        self.grad_avg_ = grad_avg\n",
    "        self.lr_ = lr\n",
    "        self.batch_size_ = batch_size\n",
    "        \n",
    "        self.grad_sum_ = 0\n",
    "        self.coef_history_ = []\n",
    "        self.f_history_ = []\n",
    "\n",
    "    def logistic(self, z):\n",
    "        # logistic function\n",
    "        return 1/(1+np.exp(-z)) \n",
    "    \n",
    "    def gradient(self, coef, batch, X, y, itr, grad_avg=False):\n",
    "        n = X.shape[0]\n",
    "        grad = 0\n",
    "        \n",
    "        for sample_idx in batch:\n",
    "            y_i = y[sample_idx]\n",
    "            x_i = X[sample_idx]\n",
    "            exp = np.exp(-y_i * np.matmul(np.transpose(coef), x_i))\n",
    "            grad += - y_i * x_i * exp / (1 + exp) + self.reg_*coef / n\n",
    "            \n",
    "        if grad_avg:\n",
    "            grad += self.grad_sum_\n",
    "            self.grad_sum_ = grad\n",
    "            grad /= itr\n",
    "        \n",
    "        return grad\n",
    "    \n",
    "    def loss(self, coef, X, y):\n",
    "        F = 0\n",
    "        for i in range(X.shape[0]):\n",
    "            F += np.log(1 + np.exp(-y[i]*np.matmul(np.transpose(X[i]), coef)))\n",
    "\n",
    "        return F + self.reg_ * 0.5 * np.matmul(np.transpose(coef), coef)\n",
    "\n",
    "    def fit(self, X, y, start):\n",
    "        \"\"\" Fit the data (X, y).\n",
    "    \n",
    "        Parameters:\n",
    "        -----------\n",
    "        X: (num_samples, num_features) np.array\n",
    "            Design matrix\n",
    "        y: (num_sampes, ) np.array\n",
    "            Output vector\n",
    "        \n",
    "        Note:\n",
    "        -----\n",
    "        Updates self.coef_\n",
    "        \"\"\"\n",
    "        \n",
    "        self.coef_ = start\n",
    "        self.coef_history_.append(self.coef_)\n",
    "        self.f_history_.append(self.loss(coef=self.coef_, X=X, y=y))\n",
    "        \n",
    "        # Batches creation\n",
    "        batches = []\n",
    "        indexes = list(range(X.shape[0]))\n",
    "        while len(indexes) > 0:\n",
    "            batch = []\n",
    "            while len(batch) < self.batch_size_ and len(indexes) > 0:\n",
    "                i = np.random.randint(low=0,high=len(indexes),size=1)[0]\n",
    "                batch.append(indexes.pop(i))\n",
    "            batches.append(batch)\n",
    "            \n",
    "            \n",
    "        itr = 0\n",
    "        while itr < self.max_iter_ and not self.has_converged_: # critere de convergence\n",
    "            itr += 1\n",
    "            lr = max(self.lr_ / itr**0.75, 1e-4)\n",
    "            coef_np1 = self.coef_ - lr * self.gradient(coef=self.coef_, \n",
    "                                                       X=X, y=y, \n",
    "                                                       itr=itr, \n",
    "                                                       grad_avg=self.grad_avg_, \n",
    "                                                       batch=batches[itr%len(batches)])\n",
    "\n",
    "            coef_np1 = (1 - 1/itr)*self.coef_history_[-1] + coef_np1 / itr\n",
    "            fn = self.f_history_[-1]\n",
    "            fnp1 = self.loss(X=X, y=y, coef=coef_np1)\n",
    "            \n",
    "            if (fn - fnp1)/fnp1 <= self.tol_:\n",
    "                self.has_converged_ = True\n",
    "            # Update the memory\n",
    "            self.coef_ = coef_np1\n",
    "            self.coef_history_.append(self.coef_)\n",
    "            self.f_history_.append(fnp1)\n",
    "            \n",
    "         \n",
    "    def predict(self, X):\n",
    "        \"\"\" Make binary predictions for data X.\n",
    "    \n",
    "        Parameters:\n",
    "        -----------\n",
    "        X: (num_samples, num_features) np.array\n",
    "            Design matrix\n",
    "        \n",
    "        Returns:\n",
    "        -----\n",
    "        y_pred: (num_samples, ) np.array\n",
    "            Predictions (0 or 1)\n",
    "        \"\"\"\n",
    "        y_pred = self.logistic(np.matmul(X, self.coef_)) > 0.5\n",
    "        y_pred = y_pred.astype(int) # y_pred = 0 or 1 according to the probability\n",
    "        y_pred = y_pred*2 - 1 # the classes are -1 or 1\n",
    "        \n",
    "        return y_pred"
   ]
  },
  {
   "cell_type": "markdown",
   "metadata": {},
   "source": [
    "**Warning** : The maximu value for the stepsize $\\theta$ is $$(\\frac{1}{4}*\\sum_{i=1}^n \\| \\textbf{x}_i \\|^2+\\lambda)^{-1}$$"
   ]
  },
  {
   "cell_type": "code",
   "execution_count": 78,
   "metadata": {},
   "outputs": [
    {
     "name": "stdout",
     "output_type": "stream",
     "text": [
      "The maximum value of the stepsize for alpha=10 the stepsize is : 0.0005171730265124121\n",
      "The maximum value of the stepsize for alpha=1 the stepsize is : 0.0005195914948659615\n",
      "The maximum value of the stepsize for alpha=0.1 the stepsize is : 0.0005198345863327776\n",
      "The maximum value of the stepsize for alpha=0.01 the stepsize is : 0.0005198589079904125\n",
      "The maximum value of the stepsize for alpha=0.001 the stepsize is : 0.0005198613402813504\n"
     ]
    }
   ],
   "source": [
    "def stepsize_max(alpha):\n",
    "    stepsize_max = 0\n",
    "    for index in range(len(diabetes_train_x)):\n",
    "        stepsize_max += np.matmul(np.transpose(diabetes_train_x[index]),diabetes_train_x[index])\n",
    "    stepsize_max = 1/(stepsize_max/4 + alpha)\n",
    "    \n",
    "    return stepsize_max\n",
    "\n",
    "for alpha in [10, 1, 1e-1, 1e-2, 1e-3]:\n",
    "    print(\"The maximum value of the stepsize for alpha={0} the stepsize is : {1}\".format(alpha,stepsize_max(alpha)))"
   ]
  },
  {
   "cell_type": "markdown",
   "metadata": {},
   "source": [
    "Apply to the data"
   ]
  },
  {
   "cell_type": "markdown",
   "metadata": {},
   "source": [
    "### Without averaging"
   ]
  },
  {
   "cell_type": "code",
   "execution_count": 79,
   "metadata": {},
   "outputs": [
    {
     "name": "stdout",
     "output_type": "stream",
     "text": [
      "Batch size: 1 Iterations: 3\n",
      "Batch size: 10 Iterations: 2\n",
      "Batch size: 25 Iterations: 29\n",
      "Batch size: 50 Iterations: 12\n",
      "Batch size: 100 Iterations: 12\n",
      "Batch size: 250 Iterations: 124\n"
     ]
    },
    {
     "data": {
      "image/png": "[encoded data removed]",
      "text/plain": [
       "<Figure size 720x720 with 1 Axes>"
      ]
     },
     "metadata": {},
     "output_type": "display_data"
    }
   ],
   "source": [
    "from sklearn.metrics import accuracy_score\n",
    "\n",
    "plt.figure(figsize=(10,10))\n",
    "\n",
    "for batch_size in [1,10,25,50,100,250]:\n",
    "    my_model = StochasticLogisticRegression(reg=1, lr=0.01, batch_size=batch_size, max_iter=2000, tol=1e-6) \n",
    "    my_model.fit(diabetes_train_x, diabetes_train_y, start=np.ones(shape=(diabetes_train_x.shape[1])))\n",
    "    y_pred = my_model.predict(diabetes_test_x)\n",
    "    plt.plot([i for i in range(1,len(my_model.f_history_)+1)], \n",
    "             my_model.f_history_, \n",
    "             label=\"Batch size: {}; Accuracy: {:.1f} %; Iterations: {}\".format(batch_size,\n",
    "                                                                              accuracy_score(diabetes_test_y, y_pred)*100,\n",
    "                                                                              len(my_model.f_history_)))\n",
    "    plt.legend()\n",
    "    print(\"Batch size:\", batch_size, \"Iterations:\", len(my_model.f_history_))\n",
    "plt.show()"
   ]
  },
  {
   "cell_type": "markdown",
   "metadata": {},
   "source": [
    "### With averaging"
   ]
  },
  {
   "cell_type": "code",
   "execution_count": null,
   "metadata": {},
   "outputs": [],
   "source": [
    "from sklearn.metrics import accuracy_score\n",
    "\n",
    "plt.figure(figsize=(10,10))\n",
    "\n",
    "for batch_size in [1,10,25,50,100,250]:\n",
    "    my_model = StochasticAverageLogisticRegression(reg=1, lr=0.001, batch_size=batch_size, max_iter=5000, tol=1e-6) \n",
    "    my_model.fit(diabetes_train_x, diabetes_train_y, start=np.ones(shape=(diabetes_train_x.shape[1])))\n",
    "    y_pred = my_model.predict(diabetes_test_x)\n",
    "    plt.plot([i for i in range(1,len(my_model.f_history_)+1)], \n",
    "             my_model.f_history_, \n",
    "             label=\"Batch size: {}; Accuracy: {:.1f} %; Iterations: {}\".format(batch_size,\n",
    "                                                                              accuracy_score(diabetes_test_y, y_pred)*100,\n",
    "                                                                              len(my_model.f_history_)))\n",
    "    plt.legend()\n",
    "    print(\"Batch size:\", batch_size, \"Iterations:\", len(my_model.f_history_))\n",
    "plt.show()"
   ]
  },
  {
   "cell_type": "markdown",
   "metadata": {},
   "source": [
    "and we compute the accuracy score to evaluate the model performance:"
   ]
  },
  {
   "cell_type": "code",
   "execution_count": 63,
   "metadata": {},
   "outputs": [
    {
     "name": "stdout",
     "output_type": "stream",
     "text": [
      "0.7760416666666666\n",
      "[[118  10]\n",
      " [ 33  31]]\n"
     ]
    }
   ],
   "source": [
    "from sklearn.metrics import confusion_matrix\n",
    "y_pred = my_model.predict(diabetes_test_x)\n",
    "#print(my_model.coef_)\n",
    "print(accuracy_score(diabetes_test_y, y_pred))\n",
    "print(confusion_matrix(diabetes_test_y, y_pred))"
   ]
  },
  {
   "cell_type": "markdown",
   "metadata": {},
   "source": [
    "Let's plot the evolution of our loss function"
   ]
  },
  {
   "cell_type": "code",
   "execution_count": 64,
   "metadata": {
    "scrolled": true
   },
   "outputs": [
    {
     "data": {
      "text/plain": [
       "[<matplotlib.lines.Line2D at 0x2119c456668>]"
      ]
     },
     "execution_count": 64,
     "metadata": {},
     "output_type": "execute_result"
    },
    {
     "data": {
      "image/png": "[encoded data removed]",
      "text/plain": [
       "<Figure size 432x288 with 1 Axes>"
      ]
     },
     "metadata": {},
     "output_type": "display_data"
    }
   ],
   "source": [
    "plt.plot([i for i in range(1,len(my_model.f_history_)+1)], my_model.f_history_, marker='+', color='r')"
   ]
  },
  {
   "cell_type": "markdown",
   "metadata": {},
   "source": [
    "Comment the results"
   ]
  },
  {
   "cell_type": "markdown",
   "metadata": {},
   "source": [
    "Implement only one acceleration method and compare the results"
   ]
  }
 ],
 "metadata": {
  "anaconda-cloud": {},
  "kernelspec": {
   "display_name": "Python 3",
   "language": "python",
   "name": "python3"
  },
  "language_info": {
   "codemirror_mode": {
    "name": "ipython",
    "version": 3
   },
   "file_extension": ".py",
   "mimetype": "text/x-python",
   "name": "python",
   "nbconvert_exporter": "python",
   "pygments_lexer": "ipython3",
   "version": "3.6.9"
  }
 },
 "nbformat": 4,
 "nbformat_minor": 2
}
