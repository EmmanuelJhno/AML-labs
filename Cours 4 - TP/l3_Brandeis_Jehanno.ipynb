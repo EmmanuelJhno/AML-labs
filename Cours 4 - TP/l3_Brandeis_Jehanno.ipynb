{
 "cells": [
  {
   "cell_type": "markdown",
   "metadata": {},
   "source": [
    "# Lab 3: Stochastic Gradient Descent"
   ]
  },
  {
   "cell_type": "markdown",
   "metadata": {},
   "source": [
    "The goal of this lab session is to code an optimization algorithm that optimzes the penalized loss function of the logistic regression model.\n",
    "\n",
    "You have to send the filled notebook named **\"L3_familyname1_familyname2.ipynb\"** (groups of 2) by email to aml.centralesupelec.2019@gmail.com by October 17, 2019. Please put **\"AML-L3\"** in the subject. \n",
    "\n",
    "We begin with the standard imports:"
   ]
  },
  {
   "cell_type": "code",
   "execution_count": 1,
   "metadata": {},
   "outputs": [],
   "source": [
    "%matplotlib inline\n",
    "import matplotlib.pyplot as plt\n",
    "import seaborn as sns; sns.set()\n",
    "import numpy as np\n",
    "import pandas as pd"
   ]
  },
  {
   "cell_type": "markdown",
   "metadata": {},
   "source": [
    "We import the dataset that we are going to use, an indian dataset including in the last column information about the diabetes status of patients:"
   ]
  },
  {
   "cell_type": "code",
   "execution_count": 44,
   "metadata": {},
   "outputs": [],
   "source": [
    "from sklearn import model_selection\n",
    "\n",
    "diabetes_data = pd.read_csv(\"diabetes_data.csv\", sep=\",\")\n",
    "\n",
    "avg = np.mean(diabetes_data.iloc[:, :-1].values)\n",
    "std = np.mean(diabetes_data.iloc[:, :-1].values)\n",
    "\n",
    "diabetes_train, diabetes_test = model_selection.train_test_split(diabetes_data)\n",
    "diabetes_train_x = diabetes_train.iloc[:, :-1].values\n",
    "diabetes_train_y = diabetes_train.iloc[:, -1].values\n",
    "diabetes_train_y[diabetes_train_y == 0] = -1\n",
    "\n",
    "diabetes_test_x = diabetes_test.iloc[:, :-1].values\n",
    "diabetes_test_y = diabetes_test.iloc[:, -1].values\n",
    "diabetes_test_y[diabetes_test_y == 0] = -1"
   ]
  },
  {
   "cell_type": "code",
   "execution_count": 45,
   "metadata": {},
   "outputs": [],
   "source": [
    "diabetes_train_x = (diabetes_train_x - avg)/std\n",
    "diabetes_test_x = (diabetes_test_x - avg)/std"
   ]
  },
  {
   "cell_type": "markdown",
   "metadata": {},
   "source": [
    "## Logistic Regression\n",
    "\n"
   ]
  },
  {
   "cell_type": "markdown",
   "metadata": {},
   "source": [
    "Today we’ll be moving from linear regression to logistic regression, one of the simplest ways to deal with a classification problem. Instead of fitting a line, logistic regression models the probability that the outcome is 1 given the value of the predictor. In order to do this we need a function that transforms our predictor variable to a value between 0 and 1. Lots of functions can do that, but the logistic function is the most common choice:\n",
    "\n",
    "$$f(z) = \\frac{1}{1+\\exp{-z}}.$$\n",
    "\n",
    "To predict the class of our observations we'll have to minimize the corresponding loss function and as we are in a high-dimensional context we'll add an $l_2$ regularization to the model:\n",
    "\n",
    "$$F(\\textbf{w}) = \\sum_{i=1}^n log(1+\\exp(-y_i\\textbf{w}^Tx_i))+\\frac{\\lambda}{2} \\| \\textbf{w} \\|^2,$$\n",
    "\n",
    "where $x_i$ is the vector of features for the observation $i$ and $y_i \\in \\{-1, 1\\}$ is the class label.  \n"
   ]
  },
  {
   "cell_type": "markdown",
   "metadata": {},
   "source": [
    "We first use the `sklearn` implementation:"
   ]
  },
  {
   "cell_type": "code",
   "execution_count": 47,
   "metadata": {},
   "outputs": [
    {
     "name": "stderr",
     "output_type": "stream",
     "text": [
      "/anaconda3/lib/python3.6/site-packages/sklearn/linear_model/logistic.py:432: FutureWarning: Default solver will be changed to 'lbfgs' in 0.22. Specify a solver to silence this warning.\n",
      "  FutureWarning)\n"
     ]
    }
   ],
   "source": [
    "from sklearn.linear_model import LogisticRegression\n",
    "model = LogisticRegression(penalty=\"l2\", C=2) \n",
    "model.fit(diabetes_train_x, diabetes_train_y)\n",
    "y_pred = model.predict(diabetes_test_x)"
   ]
  },
  {
   "cell_type": "markdown",
   "metadata": {},
   "source": [
    "and we compute the accuracy score to evaluate the model performance:"
   ]
  },
  {
   "cell_type": "code",
   "execution_count": 48,
   "metadata": {},
   "outputs": [
    {
     "data": {
      "text/plain": [
       "0.7447916666666666"
      ]
     },
     "execution_count": 48,
     "metadata": {},
     "output_type": "execute_result"
    }
   ],
   "source": [
    "from sklearn.metrics import accuracy_score\n",
    "accuracy_score(diabetes_test_y, y_pred)"
   ]
  },
  {
   "cell_type": "markdown",
   "metadata": {},
   "source": [
    "Given that the classes balance is :"
   ]
  },
  {
   "cell_type": "code",
   "execution_count": 49,
   "metadata": {},
   "outputs": [
    {
     "name": "stdout",
     "output_type": "stream",
     "text": [
      "Class -1 is represented by 63.0% of the data.\n",
      "Class 1 is represented by 37.0% of the data.\n"
     ]
    }
   ],
   "source": [
    "stats = np.unique(diabetes_test_y,return_counts=True)\n",
    "for index in range(len(stats[0])):\n",
    "    print(\"Class {0} is represented by {1:.1f}% of the data.\".format(stats[0][index],\n",
    "                                                                     stats[1][index]*100/np.sum(stats[1])))"
   ]
  },
  {
   "cell_type": "markdown",
   "metadata": {},
   "source": [
    "### Assignment\n",
    "\n",
    "Implement from scratch your own logistic regression model with stochastic gradient descent optimization. \n",
    "\n",
    "- Fill in the class\n",
    "\n",
    "- Display the evolution of the cost function along iterations. Do this for several strategies for the setting of the learning rate\n",
    "\n",
    "- Try the different acceleration strategies\n",
    "\n",
    "- Train the model with the training set and evaluate its performance in the test set"
   ]
  },
  {
   "cell_type": "markdown",
   "metadata": {},
   "source": [
    "The gradient of F is :\n",
    "\n",
    "$$\\nabla F(\\textbf{w}) = \\sum_{i=1}^n \\frac{-y_i*\\textbf{x}_i}{1+\\exp(y_i\\textbf{w}^T\\textbf{x}_i)}+\\lambda*\\textbf{w},$$\n",
    "\n",
    "Where $\\lambda$ is the regularization of the model : it prevents the model from overfitting the data by imposing low values of the model's coefficients."
   ]
  },
  {
   "cell_type": "markdown",
   "metadata": {},
   "source": [
    "We can also write F using a decomposition $$F(\\textbf{w})=\\sum_{i=1}^n f_i(\\textbf{w})$$ with $$f_i(\\textbf{w})=log(1+\\exp(-y_i\\textbf{w}^Tx_i))+\\frac{\\lambda}{2*n} \\| \\textbf{w} \\|^2,$$"
   ]
  },
  {
   "cell_type": "code",
   "execution_count": 63,
   "metadata": {},
   "outputs": [],
   "source": [
    "class StochasticLogisticRegression():\n",
    "    \"\"\" Class for logistic regression:\n",
    "    \n",
    "    Attributes:\n",
    "    -----------\n",
    "    coef_: 1-dimensional np.array\n",
    "        coefficients \n",
    "    alpha_: float\n",
    "        regularization parameter\n",
    "    lr_: float\n",
    "        the learning rate\n",
    "    bsize: integer\n",
    "        the size of the mini-batch >=1\n",
    "    coef_history_: list\n",
    "        the list of all visited betas\n",
    "    f_history_: list \n",
    "        the list of all evaluations in visited betas\n",
    "    \"\"\"\n",
    "    def __init__(self, reg, lr=1e-3, batch_size=50, max_iter=500, tol=1e-6):\n",
    "        self.coef_  = None\n",
    "        self.tol_ = tol\n",
    "        self.reg_ = reg\n",
    "        self.max_iter_ = max_iter\n",
    "        self.has_converged_ = False\n",
    "        \n",
    "        self.lr_ = lr\n",
    "        self.batch_size_ = batch_size\n",
    "        \n",
    "        self.coef_history_ = []\n",
    "        self.f_history_ = []\n",
    "\n",
    "    def logistic(self, z):\n",
    "        # logistic function\n",
    "        return 1/(1+np.exp(-z))\n",
    "    \n",
    "    def set_lr(self, itr, C=2):\n",
    "        self.lr_ = C / itr\n",
    "        \n",
    "    def evolving_lr(self, init, final, max_itr, itr):\n",
    "        \"\"\"\n",
    "        Returns the learning rate to use at the iteration itr.\n",
    "\n",
    "        The idea is to use a learning rate decreasing according to an inverse sigmoid function.\n",
    "\n",
    "        Params:\n",
    "            init : initial value of the learning rate\n",
    "            final : final value of the learning rate\n",
    "            max_itr : the number of iterations used in the process\n",
    "            itr : the iteration number at which we are\n",
    "        \"\"\"\n",
    "        alpha = 2 * (np.log((init-final)/final) - np.log(np.sqrt(init/final)-1)) / max_itr\n",
    "        beta = np.log((init + final - 2*np.sqrt(init*final))/(init - final))\n",
    "        return init / (1 + np.exp(alpha*itr+beta))\n",
    "    \n",
    "    def gradient(self, coef, batch, X, y):\n",
    "        n = X.shape[0]\n",
    "        grad = 0\n",
    "        \n",
    "        for sample_idx in batch:\n",
    "            y_i = y[sample_idx]\n",
    "            x_i = X[sample_idx]\n",
    "            exp = np.exp(y_i * np.matmul(np.transpose(coef), x_i))\n",
    "            grad += - y_i * x_i / (1 + exp) + self.reg_*coef / n\n",
    "            \n",
    "        return grad# + self.reg_*coef\n",
    "    \n",
    "    def loss(self, coef, X, y):\n",
    "        F = 0\n",
    "        for i in range(X.shape[0]):\n",
    "            F += np.log(1 + np.exp(-y[i]*np.matmul(np.transpose(X[i]), coef)))\n",
    "\n",
    "        return F + self.reg_ * 0.5 * np.matmul(np.transpose(coef), coef)\n",
    "\n",
    "    def fit(self, X, y, start):\n",
    "        \"\"\" Fit the data (X, y).\n",
    "    \n",
    "        Parameters:\n",
    "        -----------\n",
    "        X: (num_samples, num_features) np.array\n",
    "            Design matrix\n",
    "        y: (num_sampes, ) np.array\n",
    "            Output vector\n",
    "        \n",
    "        Note:\n",
    "        -----\n",
    "        Updates self.coef_\n",
    "        \"\"\"\n",
    "        \n",
    "        # Let's normalize X\n",
    "        X = (X - np.mean(X)) / (np.std(X)+1e-3)\n",
    "        \n",
    "        # Let's add the intercept\n",
    "        #X_aug = np.ones((X.shape[0], X.shape[1] + 1))\n",
    "        #X_aug[:, 1:] = X\n",
    "        #X = X_aug\n",
    "        \n",
    "        self.coef_ = start\n",
    "        self.coef_history_.append(self.coef_)\n",
    "        self.f_history_.append(self.loss(coef=self.coef_, X=X, y=y))\n",
    "        \n",
    "        # Batches creation\n",
    "        batches = []\n",
    "        indexes = list(range(X.shape[0]))\n",
    "        while len(indexes) > 0:\n",
    "            batch = []\n",
    "            while len(batch) < self.batch_size_ and len(indexes) > 0:\n",
    "                i = np.random.randint(low=0,high=len(indexes),size=1)[0]\n",
    "                batch.append(indexes.pop(i))\n",
    "            batches.append(batch)\n",
    "            \n",
    "            \n",
    "        itr = 0\n",
    "        while itr < self.max_iter_ and not self.has_converged_: # critere de convergence\n",
    "            itr += 1\n",
    "            #lr = max(self.lr_ / itr, 1e-3)\n",
    "            #self.set_lr(itr)\n",
    "            self.lr_ = self.evolving_lr(init=1e-1, final=1e-5, max_itr=self.max_iter_, itr=itr-1)\n",
    "            coef_np1 = self.coef_ - self.lr_ * self.gradient(coef=self.coef_, \n",
    "                                                       X=X, y=y, \n",
    "                                                       batch=batches[itr%len(batches)])\n",
    "\n",
    "            fn = self.f_history_[-1]\n",
    "            fnp1 = self.loss(X=X, y=y, coef=coef_np1)\n",
    "            \n",
    "            if abs(fn - fnp1)/fnp1 <= self.tol_:\n",
    "                self.has_converged_ = True\n",
    "            # Update the memory\n",
    "            self.coef_ = coef_np1\n",
    "            self.coef_history_.append(self.coef_)\n",
    "            self.f_history_.append(fnp1)\n",
    "            \n",
    "         \n",
    "    def predict(self, X):\n",
    "        \"\"\" Make binary predictions for data X.\n",
    "    \n",
    "        Parameters:\n",
    "        -----------\n",
    "        X: (num_samples, num_features) np.array\n",
    "            Design matrix\n",
    "        \n",
    "        Returns:\n",
    "        -----\n",
    "        y_pred: (num_samples, ) np.array\n",
    "            Predictions (0 or 1)\n",
    "        \"\"\"\n",
    "        # Let's normalize X\n",
    "        X = (X - np.mean(X)) / (np.std(X)+1e-3)\n",
    "        \n",
    "        # Let's add the intercept\n",
    "        #X_aug = np.ones((X.shape[0], X.shape[1] + 1))\n",
    "        #X_aug[:, 1:] = X\n",
    "        #X = X_aug\n",
    "        \n",
    "        y_pred = self.logistic(np.matmul(X, self.coef_)) > 0.5\n",
    "        y_pred = y_pred.astype(int) # y_pred = 0 or 1 according to the probability\n",
    "        y_pred = y_pred*2 - 1 # the classes are -1 or 1\n",
    "        \n",
    "        return y_pred"
   ]
  },
  {
   "cell_type": "markdown",
   "metadata": {},
   "source": [
    "**Warning** : The maximum value for the stepsize $\\theta$ is $$(\\frac{1}{4}*\\sum_{i=1}^n \\| \\textbf{x}_i \\|^2+\\lambda)^{-1}$$"
   ]
  },
  {
   "cell_type": "code",
   "execution_count": 54,
   "metadata": {},
   "outputs": [
    {
     "name": "stdout",
     "output_type": "stream",
     "text": [
      "The maximum value of the stepsize for alpha=10 the stepsize is : 0.0008633642546397709\n",
      "The maximum value of the stepsize for alpha=1 the stepsize is : 0.0008701253709205426\n",
      "The maximum value of the stepsize for alpha=0.1 the stepsize is : 0.0008708073113018149\n",
      "The maximum value of the stepsize for alpha=0.01 the stepsize is : 0.0008708755641345781\n",
      "The maximum value of the stepsize for alpha=0.001 the stepsize is : 0.0008708823900063124\n"
     ]
    }
   ],
   "source": [
    "def stepsize_max(alpha):\n",
    "    stepsize_max = 0\n",
    "    X = (diabetes_train_x - np.mean(diabetes_train_x)) / (np.std(diabetes_train_x)+1e-3)\n",
    "    for index in range(len(diabetes_train_x)):\n",
    "        stepsize_max += np.matmul(np.transpose(X[index]),X[index])\n",
    "    stepsize_max = 1/(stepsize_max/4 + alpha)\n",
    "    \n",
    "    return stepsize_max\n",
    "\n",
    "for alpha in [10, 1, 1e-1, 1e-2, 1e-3]:\n",
    "    print(\"The maximum value of the stepsize for alpha={0} the stepsize is : {1}\".format(alpha,\n",
    "                                                                                         stepsize_max(alpha)))"
   ]
  },
  {
   "cell_type": "markdown",
   "metadata": {},
   "source": [
    "Apply to the data"
   ]
  },
  {
   "cell_type": "code",
   "execution_count": 64,
   "metadata": {},
   "outputs": [],
   "source": [
    "my_model = StochasticLogisticRegression(reg=.001, lr=5e-4, batch_size=100, max_iter=5000) \n",
    "my_model.fit(diabetes_train_x, diabetes_train_y, start=np.random.rand(diabetes_train_x.shape[1]))\n",
    "y_pred = my_model.predict(diabetes_test_x)"
   ]
  },
  {
   "cell_type": "code",
   "execution_count": 65,
   "metadata": {},
   "outputs": [
    {
     "data": {
      "text/plain": [
       "0.7291666666666666"
      ]
     },
     "execution_count": 65,
     "metadata": {},
     "output_type": "execute_result"
    }
   ],
   "source": [
    "from sklearn.metrics import accuracy_score\n",
    "accuracy_score(diabetes_test_y, y_pred)"
   ]
  },
  {
   "cell_type": "markdown",
   "metadata": {},
   "source": [
    "Our result is close to sklearn's one -> Good Enough !"
   ]
  },
  {
   "cell_type": "markdown",
   "metadata": {},
   "source": [
    "-----------"
   ]
  },
  {
   "cell_type": "markdown",
   "metadata": {},
   "source": [
    "**NB :** A different evolving learning rate that we can use is the following one :"
   ]
  },
  {
   "cell_type": "code",
   "execution_count": 136,
   "metadata": {},
   "outputs": [],
   "source": [
    "def evolving_lr(init, final, max_itr, itr):\n",
    "    \"\"\"\n",
    "    Returns the learning rate to use at the iteration itr.\n",
    "    \n",
    "    The idea is to use a learning rate decreasing according to an inverse sigmoid function.\n",
    "    \n",
    "    Params:\n",
    "        init : initial value of the learning rate\n",
    "        final : final value of the learning rate\n",
    "        max_itr : the number of iterations used in the process\n",
    "        itr : the iteration number at which we are\n",
    "    \"\"\"\n",
    "    alpha = 2 * (np.log((init-final)/final) - np.log(np.sqrt(init/final)-1)) / max_itr\n",
    "    beta = np.log((init + final - 2*np.sqrt(init*final))/(init - final))\n",
    "    return init / (1 + np.exp(alpha*itr+beta))"
   ]
  },
  {
   "cell_type": "code",
   "execution_count": 141,
   "metadata": {},
   "outputs": [
    {
     "data": {
      "text/plain": [
       "Text(0, 0.5, 'Learning rate')"
      ]
     },
     "execution_count": 141,
     "metadata": {},
     "output_type": "execute_result"
    },
    {
     "data": {
      "image/png": "[encoded data removed]",
      "text/plain": [
       "<Figure size 432x288 with 1 Axes>"
      ]
     },
     "metadata": {
      "needs_background": "light"
     },
     "output_type": "display_data"
    }
   ],
   "source": [
    "init = 1e-2\n",
    "final = 1e-4\n",
    "max_itr = 500\n",
    "lr = []\n",
    "for itr in range(max_itr):\n",
    "    lr.append(evolving_lr(init, final, max_itr, itr))\n",
    "    \n",
    "plt.plot([itr for itr in range(max_itr)],lr)\n",
    "plt.yscale('log')\n",
    "plt.title('Evolving learning rate')\n",
    "plt.xlabel('Iteration number')\n",
    "plt.ylabel('Learning rate')"
   ]
  },
  {
   "cell_type": "markdown",
   "metadata": {},
   "source": [
    "-----------"
   ]
  },
  {
   "cell_type": "markdown",
   "metadata": {},
   "source": [
    " "
   ]
  },
  {
   "cell_type": "markdown",
   "metadata": {},
   "source": [
    " "
   ]
  },
  {
   "cell_type": "markdown",
   "metadata": {},
   "source": [
    " "
   ]
  },
  {
   "cell_type": "markdown",
   "metadata": {},
   "source": [
    " "
   ]
  },
  {
   "cell_type": "markdown",
   "metadata": {},
   "source": [
    " "
   ]
  },
  {
   "cell_type": "markdown",
   "metadata": {},
   "source": [
    "Let's now focus on averaging techniques. Keep in mind that two types of averagings have been seen durng the lesson :\n",
    " - Averaging the coefficients (optimize the solution)\n",
    " - Averaging the gradients (accelerated variant of the convergence)"
   ]
  },
  {
   "cell_type": "markdown",
   "metadata": {},
   "source": [
    "### Averaging the coefficients"
   ]
  },
  {
   "cell_type": "code",
   "execution_count": 67,
   "metadata": {},
   "outputs": [],
   "source": [
    "class StochasticAverageLogisticRegression():\n",
    "    \"\"\" Class for logistic regression:\n",
    "    \n",
    "    Attributes:\n",
    "    -----------\n",
    "    coef_: 1-dimensional np.array\n",
    "        coefficients \n",
    "    alpha_: float\n",
    "        regularization parameter\n",
    "    lr_: float\n",
    "        the learning rate\n",
    "    bsize: integer\n",
    "        the size of the mini-batch >=1\n",
    "    coef_history_: list\n",
    "        the list of all visited betas\n",
    "    f_history_: list \n",
    "        the list of all evaluations in visited betas\n",
    "    \"\"\"\n",
    "    def __init__(self, reg, lr=1e-3, batch_size=50, max_iter=500, tol=1e-6):\n",
    "        self.coef_  = None\n",
    "        self.tol_ = tol\n",
    "        self.reg_ = reg\n",
    "        self.max_iter_ = max_iter\n",
    "        self.has_converged_ = False\n",
    "        \n",
    "        self.lr_ = lr\n",
    "        self.batch_size_ = batch_size\n",
    "        \n",
    "        self.grad_sum_ = 0\n",
    "        self.coef_history_ = []\n",
    "        self.f_history_ = []\n",
    "\n",
    "    def logistic(self, z):\n",
    "        # logistic function\n",
    "        return 1/(1+np.exp(-z)) \n",
    "    \n",
    "    def gradient(self, coef, batch, X, y, itr):\n",
    "        n = X.shape[0]\n",
    "        grad = 0\n",
    "        \n",
    "        for sample_idx in batch:\n",
    "            y_i = y[sample_idx]\n",
    "            x_i = X[sample_idx]\n",
    "            exp = np.exp(-y_i * np.matmul(np.transpose(coef), x_i))\n",
    "            grad += - y_i * x_i * exp / (1 + exp) + self.reg_*coef / n\n",
    "            \n",
    "        return grad\n",
    "    \n",
    "    def loss(self, coef, X, y):\n",
    "        F = 0\n",
    "        for i in range(X.shape[0]):\n",
    "            F += np.log(1 + np.exp(-y[i]*np.matmul(np.transpose(X[i]), coef)))\n",
    "\n",
    "        return F + self.reg_ * 0.5 * np.matmul(np.transpose(coef), coef)\n",
    "\n",
    "    def fit(self, X, y, start):\n",
    "        \"\"\" Fit the data (X, y).\n",
    "    \n",
    "        Parameters:\n",
    "        -----------\n",
    "        X: (num_samples, num_features) np.array\n",
    "            Design matrix\n",
    "        y: (num_sampes, ) np.array\n",
    "            Output vector\n",
    "        \n",
    "        Note:\n",
    "        -----\n",
    "        Updates self.coef_\n",
    "        \"\"\"\n",
    "        # Let's normalize X\n",
    "        X = (X - np.mean(X)) / (np.std(X)+1e-3)\n",
    "        \n",
    "        # Let's add the intercept\n",
    "        #X_aug = np.ones((X.shape[0], X.shape[1] + 1))\n",
    "        #X_aug[:, 1:] = X\n",
    "        #X = X_aug\n",
    "        \n",
    "        self.coef_ = start\n",
    "        self.coef_history_.append(self.coef_)\n",
    "        self.f_history_.append(self.loss(coef=self.coef_, X=X, y=y))\n",
    "        \n",
    "        # Batches creation\n",
    "        batches = []\n",
    "        indexes = list(range(X.shape[0]))\n",
    "        while len(indexes) > 0:\n",
    "            batch = []\n",
    "            while len(batch) < self.batch_size_ and len(indexes) > 0:\n",
    "                i = np.random.randint(low=0,high=len(indexes),size=1)[0]\n",
    "                batch.append(indexes.pop(i))\n",
    "            batches.append(batch)\n",
    "            \n",
    "            \n",
    "        itr = 0\n",
    "        while itr < self.max_iter_ and not self.has_converged_: # critere de convergence\n",
    "            itr += 1\n",
    "            lr = max(self.lr_ / itr**0.75, 1e-4)\n",
    "            coef_np1 = self.coef_ - lr * self.gradient(coef=self.coef_, \n",
    "                                                       X=X, y=y, \n",
    "                                                       itr=itr, \n",
    "                                                       batch=batches[itr%len(batches)])\n",
    "\n",
    "            # A technique of averaging the coefficients can be considered\n",
    "            coef_np1 = (1 - 1/itr)*self.coef_history_[-1] + coef_np1 / itr\n",
    "            \n",
    "            # Let's define an early stopping\n",
    "            fn = self.f_history_[-1]\n",
    "            fnp1 = self.loss(X=X, y=y, coef=coef_np1)\n",
    "            if abs(fn - fnp1)/fnp1 <= self.tol_:\n",
    "                self.has_converged_ = True\n",
    "            \n",
    "            # Update the memory\n",
    "            self.coef_ = coef_np1\n",
    "            self.coef_history_.append(self.coef_)\n",
    "            self.f_history_.append(fnp1)\n",
    "            \n",
    "         \n",
    "    def predict(self, X):\n",
    "        \"\"\" Make binary predictions for data X.\n",
    "    \n",
    "        Parameters:\n",
    "        -----------\n",
    "        X: (num_samples, num_features) np.array\n",
    "            Design matrix\n",
    "        \n",
    "        Returns:\n",
    "        -----\n",
    "        y_pred: (num_samples, ) np.array\n",
    "            Predictions (0 or 1)\n",
    "        \"\"\"\n",
    "        # Let's normalize X\n",
    "        X = (X - np.mean(X)) / (np.std(X)+1e-3)\n",
    "        \n",
    "        # Let's add the intercept\n",
    "        #X_aug = np.ones((X.shape[0], X.shape[1] + 1))\n",
    "        #X_aug[:, 1:] = X\n",
    "        #X = X_aug\n",
    "        \n",
    "        y_pred = self.logistic(np.matmul(X, self.coef_)) > 0.5\n",
    "        y_pred = y_pred.astype(int) # y_pred = 0 or 1 according to the probability\n",
    "        y_pred = y_pred*2 - 1 # the classes are -1 or 1\n",
    "        \n",
    "        return y_pred"
   ]
  },
  {
   "cell_type": "code",
   "execution_count": 68,
   "metadata": {},
   "outputs": [],
   "source": [
    "my_averaged_model = StochasticAverageLogisticRegression(reg=.001, lr=5e-4, batch_size=100, max_iter=5000) \n",
    "my_averaged_model.fit(diabetes_train_x, diabetes_train_y, start=np.random.rand(diabetes_train_x.shape[1]))\n",
    "y_pred = my_averaged_model.predict(diabetes_test_x)"
   ]
  },
  {
   "cell_type": "code",
   "execution_count": 69,
   "metadata": {},
   "outputs": [
    {
     "data": {
      "text/plain": [
       "0.6041666666666666"
      ]
     },
     "execution_count": 69,
     "metadata": {},
     "output_type": "execute_result"
    }
   ],
   "source": [
    "from sklearn.metrics import accuracy_score\n",
    "accuracy_score(diabetes_test_y, y_pred)"
   ]
  },
  {
   "cell_type": "markdown",
   "metadata": {},
   "source": [
    "###### Plot the convergence with respect to the batch size without averaging"
   ]
  },
  {
   "cell_type": "code",
   "execution_count": 70,
   "metadata": {
    "scrolled": true
   },
   "outputs": [
    {
     "name": "stdout",
     "output_type": "stream",
     "text": [
      "Batch size: 1 Iterations: 691\n",
      "Batch size: 10 Iterations: 375\n",
      "Batch size: 25 Iterations: 919\n",
      "Batch size: 50 Iterations: 1096\n",
      "Batch size: 100 Iterations: 1032\n",
      "Batch size: 250 Iterations: 1030\n"
     ]
    },
    {
     "data": {
      "image/png": "[encoded data removed]",
      "text/plain": [
       "<Figure size 720x720 with 1 Axes>"
      ]
     },
     "metadata": {
      "needs_background": "light"
     },
     "output_type": "display_data"
    }
   ],
   "source": [
    "from sklearn.metrics import accuracy_score\n",
    "\n",
    "plt.figure(figsize=(10,10))\n",
    "\n",
    "for batch_size in [1,10,25,50,100,250]:\n",
    "    my_model = StochasticLogisticRegression(reg=1, lr=0.01, batch_size=batch_size, max_iter=2000, tol=1e-6) \n",
    "    my_model.fit(diabetes_train_x, diabetes_train_y, start=np.ones(shape=(diabetes_train_x.shape[1])))\n",
    "    y_pred = my_model.predict(diabetes_test_x)\n",
    "    plt.plot([i for i in range(1,len(my_model.f_history_)+1)], \n",
    "             my_model.f_history_, \n",
    "             label=\"Batch size: {}; Accuracy: {:.1f} %; Iterations: {}\".format(batch_size,\n",
    "                                                                              accuracy_score(diabetes_test_y,\n",
    "                                                                                             y_pred)*100,\n",
    "                                                                              len(my_model.f_history_)))\n",
    "    plt.legend()\n",
    "    print(\"Batch size:\", batch_size, \"Iterations:\", len(my_model.f_history_))\n",
    "plt.show()"
   ]
  },
  {
   "cell_type": "markdown",
   "metadata": {},
   "source": [
    "###### Plot the convergence with respect to the batch size with averaging"
   ]
  },
  {
   "cell_type": "code",
   "execution_count": 71,
   "metadata": {},
   "outputs": [
    {
     "name": "stdout",
     "output_type": "stream",
     "text": [
      "Batch size: 1 Iterations: 5\n",
      "Batch size: 10 Iterations: 33\n",
      "Batch size: 25 Iterations: 148\n",
      "Batch size: 50 Iterations: 778\n",
      "Batch size: 100 Iterations: 1660\n",
      "Batch size: 250 Iterations: 1533\n"
     ]
    },
    {
     "data": {
      "image/png": "[encoded data removed]",
      "text/plain": [
       "<Figure size 720x720 with 1 Axes>"
      ]
     },
     "metadata": {
      "needs_background": "light"
     },
     "output_type": "display_data"
    }
   ],
   "source": [
    "from sklearn.metrics import accuracy_score\n",
    "\n",
    "plt.figure(figsize=(10,10))\n",
    "\n",
    "for batch_size in [1,10,25,50,100,250]:\n",
    "    my_model = StochasticAverageLogisticRegression(reg=1, lr=0.001, batch_size=batch_size, max_iter=5000, tol=1e-6) \n",
    "    my_model.fit(diabetes_train_x, diabetes_train_y, start=np.ones(shape=(diabetes_train_x.shape[1])))\n",
    "    y_pred = my_model.predict(diabetes_test_x)\n",
    "    plt.plot([i for i in range(1,len(my_model.f_history_)+1)], \n",
    "             my_model.f_history_, \n",
    "             label=\"Batch size: {}; Accuracy: {:.1f} %; Iterations: {}\".format(batch_size,\n",
    "                                                                              accuracy_score(diabetes_test_y, y_pred)*100,\n",
    "                                                                              len(my_model.f_history_)))\n",
    "    plt.legend()\n",
    "    print(\"Batch size:\", batch_size, \"Iterations:\", len(my_model.f_history_))\n",
    "plt.show()"
   ]
  },
  {
   "cell_type": "code",
   "execution_count": null,
   "metadata": {},
   "outputs": [],
   "source": []
  },
  {
   "cell_type": "code",
   "execution_count": null,
   "metadata": {},
   "outputs": [],
   "source": []
  },
  {
   "cell_type": "code",
   "execution_count": null,
   "metadata": {},
   "outputs": [],
   "source": []
  },
  {
   "cell_type": "code",
   "execution_count": null,
   "metadata": {},
   "outputs": [],
   "source": []
  },
  {
   "cell_type": "markdown",
   "metadata": {},
   "source": [
    "### Accelerated Variants"
   ]
  },
  {
   "cell_type": "code",
   "execution_count": 16,
   "metadata": {},
   "outputs": [],
   "source": [
    "class AcceleratedStochasticLogisticRegression():\n",
    "    \"\"\" Class for logistic regression:\n",
    "    \n",
    "    Attributes:\n",
    "    -----------\n",
    "    coef_: 1-dimensional np.array\n",
    "        coefficients \n",
    "    alpha_: float\n",
    "        regularization parameter\n",
    "    lr_: float\n",
    "        the learning rate\n",
    "    bsize: integer\n",
    "        the size of the mini-batch >=1\n",
    "    coef_history_: list\n",
    "        the list of all visited betas\n",
    "    f_history_: list \n",
    "        the list of all evaluations in visited betas\n",
    "    \"\"\"\n",
    "    def __init__(self, reg, lr=1e-3, acc_type='SAG', batch_size=50, max_iter=500, tol=1e-6):\n",
    "        self.coef_  = None\n",
    "        self.tol_ = tol\n",
    "        self.reg_ = reg\n",
    "        self.max_iter_ = max_iter\n",
    "        self.has_converged_ = False\n",
    "        \n",
    "        \n",
    "        self.acc_type_ = acc_type\n",
    "        self.lr_ = lr\n",
    "        self.batch_size_ = batch_size\n",
    "        \n",
    "        self.grad_sum_ = 0\n",
    "        self.coef_history_ = []\n",
    "        self.f_history_ = []\n",
    "\n",
    "    def logistic(self, z):\n",
    "        # logistic function\n",
    "        return 1/(1+np.exp(-z)) \n",
    "    \n",
    "    def gradient(self, coef, batch, X, y, itr, grad_avg=False):\n",
    "        n = X.shape[0]\n",
    "        grad = 0\n",
    "        \n",
    "        for sample_idx in batch:\n",
    "            y_i = y[sample_idx]\n",
    "            x_i = X[sample_idx]\n",
    "            exp = np.exp(-y_i * np.matmul(np.transpose(coef), x_i))\n",
    "            grad += - y_i * x_i * exp / (1 + exp) + self.reg_*coef / n\n",
    "            \n",
    "        # Then we average the gradient : Accelerated technique !\n",
    "        #grad += self.grad_sum_\n",
    "        #self.grad_sum_ = grad\n",
    "        #grad /= itr\n",
    "        \n",
    "        return grad\n",
    "    \n",
    "    def loss(self, coef, X, y):\n",
    "        F = 0\n",
    "        for i in range(X.shape[0]):\n",
    "            F += np.log(1 + np.exp(-y[i]*np.matmul(np.transpose(X[i]), coef)))\n",
    "\n",
    "        return F + self.reg_ * 0.5 * np.matmul(np.transpose(coef), coef)\n",
    "\n",
    "    def fit(self, X, y, start):\n",
    "        \"\"\" Fit the data (X, y).\n",
    "    \n",
    "        Parameters:\n",
    "        -----------\n",
    "        X: (num_samples, num_features) np.array\n",
    "            Design matrix\n",
    "        y: (num_sampes, ) np.array\n",
    "            Output vector\n",
    "        \n",
    "        Note:\n",
    "        -----\n",
    "        Updates self.coef_\n",
    "        \"\"\"\n",
    "        \n",
    "        self.coef_ = start\n",
    "        self.coef_history_.append(self.coef_)\n",
    "        self.f_history_.append(self.loss(coef=self.coef_, X=X, y=y))\n",
    "        \n",
    "        # Batches creation\n",
    "        batches = []\n",
    "        phi = []\n",
    "        indexes = list(range(X.shape[0]))\n",
    "        while len(indexes) > 0:\n",
    "            batch = []\n",
    "            while len(batch) < self.batch_size_ and len(indexes) > 0:\n",
    "                i = np.random.randint(low=0,high=len(indexes),size=1)[0]\n",
    "                batch.append(indexes.pop(i))\n",
    "            batches.append(batch)\n",
    "            phi.append(self.coef_)\n",
    "            \n",
    "            \n",
    "        itr = 0\n",
    "        phi = []\n",
    "        while itr < self.max_iter_ and not self.has_converged_: # critere de convergence\n",
    "            itr += 1\n",
    "            lr = max(self.lr_ / itr**0.75, 1e-4)\n",
    "            \n",
    "            phi_it = phi[itr%len(batches)]\n",
    "            coef_np1 = self.coef_ - lr/X.shape[0] *self.gradient(coef=phi_it, \n",
    "                                                                 X=X, y=y, itr=itr, \n",
    "                                                                 grad_avg=self.grad_avg_, \n",
    "                                                                 batch=list(range(X.shape[0])))\n",
    "            \n",
    "            additional_term = lr * (self.gradient(coef=self.coef_,X=X, y=y, itr=itr, grad_avg=self.grad_avg_, \n",
    "                                                  batch=batches[itr%len(batches)] - \n",
    "                                    self.gradient(coef=phi,X=X, y=y, itr=itr, grad_avg=self.grad_avg_, \n",
    "                                                  batch=batches[itr%len(batches)]))\n",
    "            if self.acc_type_=='SAG':\n",
    "                coef_np1 -= additional_term/X.shape[0]\n",
    "            elif self.acc_type_=='SAGA':\n",
    "                coef_np1 -= additional_term\n",
    "            \n",
    "            #coef_np1 = self.coef_ - lr * self.gradient(coef=self.coef_, \n",
    "            #                                           X=X, y=y, \n",
    "            #                                           itr=itr, \n",
    "            #                                           grad_avg=self.grad_avg_, \n",
    "            #                                           batch=batches[itr%len(batches)])\n",
    "\n",
    "            # Let's define an early stopping\n",
    "            fn = self.f_history_[-1]\n",
    "            fnp1 = self.loss(X=X, y=y, coef=coef_np1)\n",
    "            if abs(fn - fnp1)/fnp1 <= self.tol_:\n",
    "                self.has_converged_ = True\n",
    "            \n",
    "            # Update the memory\n",
    "            self.coef_ = coef_np1\n",
    "            phi[itr%len(phi)] = self.coef_\n",
    "            self.coef_history_.append(self.coef_)\n",
    "            self.f_history_.append(fnp1)\n",
    "            \n",
    "         \n",
    "    def predict(self, X):\n",
    "        \"\"\" Make binary predictions for data X.\n",
    "    \n",
    "        Parameters:\n",
    "        -----------\n",
    "        X: (num_samples, num_features) np.array\n",
    "            Design matrix\n",
    "        \n",
    "        Returns:\n",
    "        -----\n",
    "        y_pred: (num_samples, ) np.array\n",
    "            Predictions (0 or 1)\n",
    "        \"\"\"\n",
    "        y_pred = self.logistic(np.matmul(X, self.coef_)) > 0.5\n",
    "        y_pred = y_pred.astype(int) # y_pred = 0 or 1 according to the probability\n",
    "        y_pred = y_pred*2 - 1 # the classes are -1 or 1\n",
    "        \n",
    "        return y_pred"
   ]
  },
  {
   "cell_type": "code",
   "execution_count": null,
   "metadata": {},
   "outputs": [],
   "source": []
  },
  {
   "cell_type": "code",
   "execution_count": null,
   "metadata": {},
   "outputs": [],
   "source": []
  },
  {
   "cell_type": "code",
   "execution_count": null,
   "metadata": {},
   "outputs": [],
   "source": []
  },
  {
   "cell_type": "code",
   "execution_count": null,
   "metadata": {},
   "outputs": [],
   "source": []
  },
  {
   "cell_type": "code",
   "execution_count": null,
   "metadata": {},
   "outputs": [],
   "source": []
  },
  {
   "cell_type": "code",
   "execution_count": null,
   "metadata": {},
   "outputs": [],
   "source": []
  },
  {
   "cell_type": "markdown",
   "metadata": {},
   "source": [
    "Comment the results"
   ]
  },
  {
   "cell_type": "markdown",
   "metadata": {},
   "source": [
    "Implement only one acceleration method and compare the results"
   ]
  }
 ],
 "metadata": {
  "anaconda-cloud": {},
  "kernelspec": {
   "display_name": "Python 3",
   "language": "python",
   "name": "python3"
  },
  "language_info": {
   "codemirror_mode": {
    "name": "ipython",
    "version": 3
   },
   "file_extension": ".py",
   "mimetype": "text/x-python",
   "name": "python",
   "nbconvert_exporter": "python",
   "pygments_lexer": "ipython3",
   "version": "3.6.9"
  }
 },
 "nbformat": 4,
 "nbformat_minor": 2
}
