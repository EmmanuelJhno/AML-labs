{
 "cells": [
  {
   "cell_type": "markdown",
   "metadata": {},
   "source": [
    "# Lab 3: Stochastic Gradient Descent"
   ]
  },
  {
   "cell_type": "markdown",
   "metadata": {},
   "source": [
    "The goal of this lab session is to code an optimization algorithm that optimzes the penalized loss function of the logistic regression model.\n",
    "\n",
    "You have to send the filled notebook named **\"L3_familyname1_familyname2.ipynb\"** (groups of 2) by email to aml.centralesupelec.2019@gmail.com by October 17, 2019. Please put **\"AML-L3\"** in the subject. \n",
    "\n",
    "We begin with the standard imports:"
   ]
  },
  {
   "cell_type": "code",
   "execution_count": 1,
   "metadata": {},
   "outputs": [],
   "source": [
    "%matplotlib inline\n",
    "import matplotlib.pyplot as plt\n",
    "import seaborn as sns; sns.set()\n",
    "import numpy as np\n",
    "import pandas as pd"
   ]
  },
  {
   "cell_type": "markdown",
   "metadata": {},
   "source": [
    "We import the dataset that we are going to use, an indian dataset including in the last column information about the diabetes status of patients:"
   ]
  },
  {
   "cell_type": "code",
   "execution_count": 2,
   "metadata": {},
   "outputs": [],
   "source": [
    "from sklearn import model_selection\n",
    "\n",
    "diabetes_data = pd.read_csv(\"diabetes_data.csv\", sep=\",\")\n",
    "\n",
    "diabetes_train, diabetes_test = model_selection.train_test_split(diabetes_data)\n",
    "diabetes_train_x = diabetes_train.iloc[:, :-1].values\n",
    "diabetes_train_y = diabetes_train.iloc[:, -1].values\n",
    "diabetes_train_y[diabetes_train_y == 0] = -1\n",
    "\n",
    "avg = np.mean(diabetes_train_x)\n",
    "std = np.std(diabetes_train_x) if np.std(diabetes_train_x)!=0 else 1e-3\n",
    "\n",
    "diabetes_test_x = diabetes_test.iloc[:, :-1].values\n",
    "diabetes_test_y = diabetes_test.iloc[:, -1].values\n",
    "diabetes_test_y[diabetes_test_y == 0] = -1\n",
    "\n",
    "# Normalize the data\n",
    "diabetes_train_x = (diabetes_train_x - avg)/std\n",
    "diabetes_test_x = (diabetes_test_x - avg)/std"
   ]
  },
  {
   "cell_type": "markdown",
   "metadata": {},
   "source": [
    "## Logistic Regression\n",
    "\n"
   ]
  },
  {
   "cell_type": "markdown",
   "metadata": {},
   "source": [
    "Today we’ll be moving from linear regression to logistic regression, one of the simplest ways to deal with a classification problem. Instead of fitting a line, logistic regression models the probability that the outcome is 1 given the value of the predictor. In order to do this we need a function that transforms our predictor variable to a value between 0 and 1. Lots of functions can do that, but the logistic function is the most common choice:\n",
    "\n",
    "$$f(z) = \\frac{1}{1+\\exp{-z}}.$$\n",
    "\n",
    "To predict the class of our observations we'll have to minimize the corresponding loss function and as we are in a high-dimensional context we'll add an $l_2$ regularization to the model:\n",
    "\n",
    "$$F(\\textbf{w}) = \\sum_{i=1}^n log(1+\\exp(-y_i\\textbf{w}^Tx_i))+\\frac{\\lambda}{2} \\| \\textbf{w} \\|^2,$$\n",
    "\n",
    "where $x_i$ is the vector of features for the observation $i$ and $y_i \\in \\{-1, 1\\}$ is the class label.  \n"
   ]
  },
  {
   "cell_type": "markdown",
   "metadata": {},
   "source": [
    "We first use the `sklearn` implementation:"
   ]
  },
  {
   "cell_type": "code",
   "execution_count": 4,
   "metadata": {},
   "outputs": [
    {
     "name": "stderr",
     "output_type": "stream",
     "text": [
      "/anaconda3/lib/python3.6/site-packages/sklearn/linear_model/logistic.py:432: FutureWarning: Default solver will be changed to 'lbfgs' in 0.22. Specify a solver to silence this warning.\n",
      "  FutureWarning)\n"
     ]
    }
   ],
   "source": [
    "from sklearn.linear_model import LogisticRegression\n",
    "model = LogisticRegression(penalty=\"l2\", C=2) \n",
    "model.fit(diabetes_train_x, diabetes_train_y)\n",
    "y_pred = model.predict(diabetes_test_x)"
   ]
  },
  {
   "cell_type": "markdown",
   "metadata": {},
   "source": [
    "and we compute the accuracy score and confusion matrix to evaluate the model performance:"
   ]
  },
  {
   "cell_type": "code",
   "execution_count": 5,
   "metadata": {
    "scrolled": true
   },
   "outputs": [
    {
     "name": "stdout",
     "output_type": "stream",
     "text": [
      "Accuracy score for sklearn's implementation: 0.7447916666666666\n"
     ]
    }
   ],
   "source": [
    "from sklearn.metrics import accuracy_score\n",
    "acc = accuracy_score(diabetes_test_y, y_pred)\n",
    "print(\"Accuracy score for sklearn's implementation:\", acc)"
   ]
  },
  {
   "cell_type": "code",
   "execution_count": 6,
   "metadata": {},
   "outputs": [
    {
     "name": "stdout",
     "output_type": "stream",
     "text": [
      "Confusion matrix:\n",
      " [[103  15]\n",
      " [ 34  40]]\n"
     ]
    }
   ],
   "source": [
    "from sklearn.metrics import confusion_matrix\n",
    "print(\"Confusion matrix:\\n\", confusion_matrix(y_true=diabetes_test_y, y_pred=y_pred))"
   ]
  },
  {
   "cell_type": "markdown",
   "metadata": {},
   "source": [
    "Given that the classes balance is :"
   ]
  },
  {
   "cell_type": "code",
   "execution_count": 7,
   "metadata": {},
   "outputs": [
    {
     "name": "stdout",
     "output_type": "stream",
     "text": [
      "Class -1 is represented by 61.5% of the data.\n",
      "Class 1 is represented by 38.5% of the data.\n"
     ]
    }
   ],
   "source": [
    "stats = np.unique(diabetes_test_y,return_counts=True)\n",
    "for index in range(len(stats[0])):\n",
    "    print(\"Class {0} is represented by {1:.1f}% of the data.\".format(stats[0][index],\n",
    "                                                                     stats[1][index]*100/np.sum(stats[1])))"
   ]
  },
  {
   "cell_type": "markdown",
   "metadata": {},
   "source": [
    "### Assignment\n",
    "\n",
    "Implement from scratch your own logistic regression model with stochastic gradient descent optimization. \n",
    "\n",
    "- Fill in the class\n",
    "\n",
    "- Display the evolution of the cost function along iterations. Do this for several strategies for the setting of the learning rate\n",
    "\n",
    "- Try the different acceleration strategies\n",
    "\n",
    "- Train the model with the training set and evaluate its performance in the test set"
   ]
  },
  {
   "cell_type": "markdown",
   "metadata": {},
   "source": [
    "The gradient of F is :\n",
    "\n",
    "$$\\nabla F(\\textbf{w}) = \\sum_{i=1}^n \\frac{-y_i*\\textbf{x}_i}{1+\\exp(y_i\\textbf{w}^T\\textbf{x}_i)}+\\lambda*\\textbf{w},$$\n",
    "\n",
    "Where $\\lambda$ is the regularization of the model : it prevents the model from overfitting the data by imposing low values of the model's coefficients."
   ]
  },
  {
   "cell_type": "markdown",
   "metadata": {},
   "source": [
    "We can also write F using a decomposition $$F(\\textbf{w})=\\sum_{i=1}^n f_i(\\textbf{w})$$ with $$f_i(\\textbf{w})=log(1+\\exp(-y_i\\textbf{w}^Tx_i))+\\frac{\\lambda}{2*n} \\| \\textbf{w} \\|^2,$$"
   ]
  },
  {
   "cell_type": "markdown",
   "metadata": {},
   "source": [
    "Which rewrites as follow when splitting the data in J mini-batches $B_j$:\n",
    "$$F(\\textbf{w})=\\sum_{j=1}^J F_j(\\textbf{w})$$\n",
    "with\n",
    "$$F_j(\\textbf{w})=\\sum_{i \\in B_j}{log(1+\\exp(-y_i\\textbf{w}^Tx_i))} \\; +\\; \\frac{\\lambda * \\# B_j}{2*n} \\| \\textbf{w} \\|^2,$$"
   ]
  },
  {
   "cell_type": "markdown",
   "metadata": {},
   "source": [
    "### Stochastic Logistic Regression Implementation"
   ]
  },
  {
   "cell_type": "code",
   "execution_count": 8,
   "metadata": {},
   "outputs": [],
   "source": [
    "class StochasticLogisticRegression():\n",
    "    \"\"\" Class for logistic regression:\n",
    "    \n",
    "    Attributes:\n",
    "    -----------\n",
    "    coef_: 1-dimensional np.array\n",
    "        coefficients \n",
    "    tol_: float\n",
    "        tolerance for the early stopping definition\n",
    "    max_iter_: integer\n",
    "        maximum number of iterations to compute in case of non-convergence\n",
    "    reg_: float\n",
    "        regularization parameter\n",
    "    self.has_converged_: boolean\n",
    "        whether the algorithm has converged or not according to the tolerance set earlier\n",
    "    lr_: float\n",
    "        the learning rate\n",
    "    lr_strategy_: 'inverse' or 'inverse_sigmoid'\n",
    "        the evolution strategy of the learning rate\n",
    "    batch_size_: integer >= 1\n",
    "        the size of the mini-batch\n",
    "    coef_history_: list\n",
    "        the list of all visited betas\n",
    "    f_history_: list \n",
    "        the list of all evaluations in visited betas\n",
    "    \"\"\"\n",
    "    def __init__(self, reg, lr=1e-3, batch_size=50, max_iter=500, tol=1e-6, lr_strategy=\"inverse\"):\n",
    "        self.coef_  = None\n",
    "        self.tol_ = tol\n",
    "        self.max_iter_ = max_iter\n",
    "        self.reg_ = reg\n",
    "        self.has_converged_ = False\n",
    "        \n",
    "        self.lr_ = lr\n",
    "        self.lr_strategy_ = lr_strategy\n",
    "        assert batch_size >= 1\n",
    "        self.batch_size_ = batch_size\n",
    "        \n",
    "        self.coef_history_ = []\n",
    "        self.f_history_ = []\n",
    "\n",
    "    def logistic(self, z):\n",
    "        # logistic function\n",
    "        return 1/(1+np.exp(-z))\n",
    "    \n",
    "    def inverse_lr(self, itr):\n",
    "        \"\"\"\n",
    "        Returns the learning rate to use at the iteration itr.\n",
    "\n",
    "        The idea is to use a learning rate decreasing according to an inverse function.\n",
    "\n",
    "        Params:\n",
    "            itr: the iteration number at which we are\n",
    "        \"\"\"\n",
    "        return self.lr_ / itr\n",
    "        \n",
    "    def inverse_sigmoid_lr(self, init, final, max_itr, itr):\n",
    "        \"\"\"\n",
    "        Returns the learning rate to use at the iteration itr.\n",
    "\n",
    "        The idea is to use a learning rate decreasing according to an inverse sigmoid function.\n",
    "\n",
    "        Params:\n",
    "            init: initial value of the learning rate\n",
    "            final: final value of the learning rate\n",
    "            max_itr: the number of iterations used in the process\n",
    "            itr: the iteration number at which we are\n",
    "        \"\"\"\n",
    "        alpha = 2 * (np.log((init-final)/final) - np.log(np.sqrt(init/final)-1)) / max_itr\n",
    "        beta = np.log((init + final - 2*np.sqrt(init*final))/(init - final))\n",
    "        return init / (1 + np.exp(alpha*itr+beta))\n",
    "    \n",
    "    def gradient(self, coef, batch, X, y):\n",
    "        \"\"\"\n",
    "        Computes the gradient of the logistic loss with a Ridge penalty.\n",
    "        \n",
    "        Params:\n",
    "            coef: the parameters of the logistic regression. The gradient is computed with respect to coef.\n",
    "            batch: a list of the samples to be considered in the batch\n",
    "            X: training data\n",
    "            y: training labels\n",
    "        \"\"\"\n",
    "        n = X.shape[0]\n",
    "        grad = 0\n",
    "        \n",
    "        for sample_idx in batch: # We compute the gradient per mini-batch\n",
    "            y_i = y[sample_idx]\n",
    "            x_i = X[sample_idx]\n",
    "            exp = np.exp(y_i * np.matmul(np.transpose(coef), x_i))\n",
    "            grad += - y_i * x_i / (1 + exp) + self.reg_*coef / n\n",
    "            \n",
    "        return grad\n",
    "    \n",
    "    def loss(self, coef, X, y):\n",
    "        \"\"\"\n",
    "        Returns the logistic loss of our model.\n",
    "        \"\"\"\n",
    "        F = 0\n",
    "        for i in range(X.shape[0]):\n",
    "            F += np.log(1 + np.exp(-y[i]*np.matmul(np.transpose(X[i]), coef)))\n",
    "\n",
    "        return F + self.reg_ * 0.5 * np.matmul(np.transpose(coef), coef)\n",
    "    \n",
    "    def compute_lr(self, itr, min_lr=1e-5):\n",
    "        \"\"\"\n",
    "        Commputes the learning rate at the iteration itr according to which strategy we use.\n",
    "        \"\"\"\n",
    "        if self.lr_strategy_ == \"inverse\":\n",
    "            lr = self.inverse_lr(itr)\n",
    "        elif self.lr_strategy_ == \"inverse_sigmoid\":\n",
    "            # self.lr_ will be our initial learning rate and we define the final one as being min_lr.\n",
    "            lr = self.inverse_sigmoid_lr(init=self.lr_, final=min_lr, max_itr=self.max_iter_, itr=itr-1)\n",
    "        return lr\n",
    "\n",
    "    def compute_next_coef(self, X, y, lr, batches, itr):\n",
    "        \"\"\"\n",
    "        Returns the value of the new coef. This function uses a stochastic gradient descent.\n",
    "        \n",
    "        Params:\n",
    "            X: training data\n",
    "            y: training labels\n",
    "            lr: learning rate\n",
    "            batches: a list of the bateches\n",
    "            itr: the iteration number\n",
    "        \"\"\"\n",
    "        batch=batches[itr%len(batches)]\n",
    "        return self.coef_ - lr * self.gradient(coef=self.coef_, \n",
    "                                               X=X, y=y, \n",
    "                                               batch=batch)\n",
    "    \n",
    "    def create_batches(self, X):\n",
    "        \"\"\"\n",
    "        Creates the batches corresponding to the training data\n",
    "        \"\"\"\n",
    "        batches = []\n",
    "        indexes = list(range(X.shape[0]))\n",
    "        while len(indexes) > 0:\n",
    "            batch = []\n",
    "            while len(batch) < self.batch_size_ and len(indexes) > 0:\n",
    "                i = np.random.randint(low=0,high=len(indexes),size=1)[0]\n",
    "                batch.append(indexes.pop(i))\n",
    "            batches.append(batch)\n",
    "        return batches\n",
    "\n",
    "\n",
    "    def fit(self, X, y, start):\n",
    "        \"\"\" Fit the data (X, y).\n",
    "    \n",
    "        Parameters:\n",
    "        -----------\n",
    "        X: (num_samples, num_features) np.array\n",
    "            Design matrix\n",
    "        y: (num_sampes, ) np.array\n",
    "            Output vector\n",
    "        \n",
    "        Note:\n",
    "        -----\n",
    "        Updates self.coef_\n",
    "        \"\"\"        \n",
    "        # Let's add the intercept\n",
    "        #X_aug = np.ones((X.shape[0], X.shape[1] + 1))\n",
    "        #X_aug[:, 1:] = X\n",
    "        #X = X_aug\n",
    "        \n",
    "        self.coef_ = start\n",
    "        self.coef_history_.append(self.coef_)\n",
    "        self.f_history_.append(self.loss(coef=self.coef_, X=X, y=y))\n",
    "        \n",
    "        # Batches creation\n",
    "        batches = self.create_batches(X)\n",
    "        \n",
    "        itr = 0\n",
    "        while itr < self.max_iter_ and not self.has_converged_: # critere de convergence\n",
    "            itr += 1\n",
    "            \n",
    "            lr = self.compute_lr(itr)\n",
    "                \n",
    "            coef_np1 = self.compute_next_coef(X=X, y=y, lr=lr, batches=batches, itr=itr)\n",
    "            \n",
    "            fn = self.f_history_[-1]\n",
    "            fnp1 = self.loss(X=X, y=y, coef=coef_np1)\n",
    "            \n",
    "            if abs(fn - fnp1) <= self.tol_:\n",
    "                self.has_converged_ = True\n",
    "            \n",
    "            # Update the memory\n",
    "            self.coef_ = coef_np1\n",
    "            self.coef_history_.append(self.coef_)\n",
    "            self.f_history_.append(fnp1)\n",
    "            \n",
    "         \n",
    "    def predict(self, X):\n",
    "        \"\"\" Make binary predictions for data X.\n",
    "    \n",
    "        Parameters:\n",
    "        -----------\n",
    "        X: (num_samples, num_features) np.array\n",
    "            Design matrix\n",
    "        \n",
    "        Returns:\n",
    "        -----\n",
    "        y_pred: (num_samples, ) np.array\n",
    "            Predictions (0 or 1)\n",
    "        \"\"\"        \n",
    "        # Let's add the intercept\n",
    "        #X_aug = np.ones((X.shape[0], X.shape[1] + 1))\n",
    "        #X_aug[:, 1:] = X\n",
    "        #X = X_aug\n",
    "        \n",
    "        y_pred = self.logistic(np.matmul(X, self.coef_)) > 0.5\n",
    "        y_pred = y_pred.astype(int) # y_pred = 0 or 1 according to the probability\n",
    "        y_pred = y_pred*2 - 1 # the classes are -1 or 1\n",
    "        \n",
    "        return y_pred"
   ]
  },
  {
   "cell_type": "markdown",
   "metadata": {},
   "source": [
    "**Warning** : The maximum value for the stepsize $\\theta$ is $$(\\frac{1}{4}*\\sum_{i=1}^n \\| \\textbf{x}_i \\|^2+\\lambda)^{-1}$$"
   ]
  },
  {
   "cell_type": "code",
   "execution_count": 32,
   "metadata": {},
   "outputs": [
    {
     "name": "stdout",
     "output_type": "stream",
     "text": [
      "The maximum value of the stepsize for alpha=10 the stepsize is : 0.0008633362714419373\n",
      "The maximum value of the stepsize for alpha=1 the stepsize is : 0.0008700969477337827\n",
      "The maximum value of the stepsize for alpha=0.1 the stepsize is : 0.0008707788435463116\n",
      "The maximum value of the stepsize for alpha=0.01 the stepsize is : 0.000870847091916436\n",
      "The maximum value of the stepsize for alpha=0.001 the stepsize is : 0.0008708539173418485\n"
     ]
    }
   ],
   "source": [
    "def stepsize_max(alpha):\n",
    "    stepsize_max = 0\n",
    "    X = (diabetes_train_x - np.mean(diabetes_train_x)) / (np.std(diabetes_train_x)+1e-3)\n",
    "    for index in range(len(diabetes_train_x)):\n",
    "        stepsize_max += np.matmul(np.transpose(X[index]),X[index])\n",
    "    stepsize_max = 1/(stepsize_max/4 + alpha)\n",
    "    \n",
    "    return stepsize_max\n",
    "\n",
    "for alpha in [10, 1, 1e-1, 1e-2, 1e-3]:\n",
    "    print(\"The maximum value of the stepsize for alpha={0} the stepsize is : {1}\".format(alpha,\n",
    "                                                                                         stepsize_max(alpha)))"
   ]
  },
  {
   "cell_type": "markdown",
   "metadata": {},
   "source": [
    "Apply to the data"
   ]
  },
  {
   "cell_type": "code",
   "execution_count": 89,
   "metadata": {},
   "outputs": [],
   "source": [
    "my_model = StochasticLogisticRegression(reg=.001, lr=1e-3, batch_size=100, max_iter=2000, lr_strategy=\"inverse\", tol=0.001) \n",
    "my_model.fit(diabetes_train_x, diabetes_train_y, start=np.random.rand(diabetes_train_x.shape[1]))\n",
    "y_pred = my_model.predict(diabetes_test_x)"
   ]
  },
  {
   "cell_type": "code",
   "execution_count": 90,
   "metadata": {},
   "outputs": [
    {
     "data": {
      "text/plain": [
       "0.71875"
      ]
     },
     "execution_count": 90,
     "metadata": {},
     "output_type": "execute_result"
    }
   ],
   "source": [
    "from sklearn.metrics import accuracy_score\n",
    "accuracy_score(diabetes_test_y, y_pred)"
   ]
  },
  {
   "cell_type": "markdown",
   "metadata": {},
   "source": [
    "Our result is close to sklearn's one -> Good Enough !"
   ]
  },
  {
   "cell_type": "markdown",
   "metadata": {},
   "source": [
    "-----------"
   ]
  },
  {
   "cell_type": "markdown",
   "metadata": {},
   "source": [
    "### Comparing strategies for setting learning rate"
   ]
  },
  {
   "cell_type": "markdown",
   "metadata": {},
   "source": [
    "A different evolving learning rate that we can use is the following one :"
   ]
  },
  {
   "cell_type": "code",
   "execution_count": 35,
   "metadata": {},
   "outputs": [],
   "source": [
    "def evolving_lr(init, final, max_itr, itr):\n",
    "    \"\"\"\n",
    "    Returns the learning rate to use at the iteration itr.\n",
    "    \n",
    "    The idea is to use a learning rate decreasing according to an inverse sigmoid function.\n",
    "    \n",
    "    Params:\n",
    "        init : initial value of the learning rate\n",
    "        final : final value of the learning rate\n",
    "        max_itr : the number of iterations used in the process\n",
    "        itr : the iteration number at which we are\n",
    "    \"\"\"\n",
    "    alpha = 2 * (np.log((init-final)/final) - np.log(np.sqrt(init/final)-1)) / max_itr\n",
    "    beta = np.log((init + final - 2*np.sqrt(init*final))/(init - final))\n",
    "    return init / (1 + np.exp(alpha*itr+beta))"
   ]
  },
  {
   "cell_type": "code",
   "execution_count": 36,
   "metadata": {},
   "outputs": [
    {
     "data": {
      "image/png": "[encoded data removed]",
      "text/plain": [
       "<Figure size 432x288 with 1 Axes>"
      ]
     },
     "metadata": {
      "needs_background": "light"
     },
     "output_type": "display_data"
    }
   ],
   "source": [
    "init = 1e-2\n",
    "final = 1e-4\n",
    "max_itr = 500\n",
    "lr = []\n",
    "for itr in range(max_itr):\n",
    "    lr.append(evolving_lr(init, final, max_itr, itr))\n",
    "    \n",
    "plt.plot([itr for itr in range(max_itr)],lr)\n",
    "plt.yscale('log')\n",
    "plt.title('Evolving learning rate : inverse_sigmoid')\n",
    "plt.xlabel('Iteration number')\n",
    "plt.ylabel('Learning rate')\n",
    "plt.show()"
   ]
  },
  {
   "cell_type": "markdown",
   "metadata": {},
   "source": [
    "Or simply use an inverse learning rate : $$lr = \\frac{Constant}{iteration}$$"
   ]
  },
  {
   "cell_type": "code",
   "execution_count": 9,
   "metadata": {},
   "outputs": [],
   "source": [
    "batch_size = 25\n",
    "predictions = {}\n",
    "loss_history = {}\n",
    "\n",
    "for strat in [\"inverse\", \"inverse_sigmoid\"]:\n",
    "    model = StochasticLogisticRegression(reg=1, lr=0.01, \n",
    "                                          batch_size=batch_size, \n",
    "                                          max_iter=1500, tol=0.001, \n",
    "                                          lr_strategy=strat)\n",
    "    model.fit(diabetes_train_x, diabetes_train_y, start=np.random.rand(diabetes_train_x.shape[1]))\n",
    "    predictions[strat] = model.predict(diabetes_test_x)\n",
    "    loss_history[strat] = model.f_history_"
   ]
  },
  {
   "cell_type": "code",
   "execution_count": 10,
   "metadata": {},
   "outputs": [
    {
     "data": {
      "image/png": "[encoded data removed]",
      "text/plain": [
       "<Figure size 720x720 with 1 Axes>"
      ]
     },
     "metadata": {
      "needs_background": "light"
     },
     "output_type": "display_data"
    }
   ],
   "source": [
    "plt.figure(figsize=(10,10))\n",
    "\n",
    "for strategy, y_pred in predictions.items():\n",
    "    plt.plot([i for i in range(1,len(loss_history[strategy])+1)], \n",
    "             loss_history[strategy], \n",
    "             label=\"Strategy: {};\\nAccuracy: {:.1f} %;\\nIterations: {}\".format(strategy,\n",
    "                                                                              accuracy_score(diabetes_test_y,\n",
    "                                                                                             y_pred)*100,\n",
    "                                                                              len(loss_history[strategy])))\n",
    "plt.legend()\n",
    "plt.xlabel(\"Iterations\")\n",
    "plt.ylabel(\"Loss\")\n",
    "plt.title(\"Loss behaviour for different learning rate strategies - batch size: 25\")\n",
    "plt.show()"
   ]
  },
  {
   "cell_type": "markdown",
   "metadata": {},
   "source": [
    "-----------"
   ]
  },
  {
   "cell_type": "markdown",
   "metadata": {},
   "source": [
    " "
   ]
  },
  {
   "cell_type": "markdown",
   "metadata": {},
   "source": [
    " "
   ]
  },
  {
   "cell_type": "markdown",
   "metadata": {},
   "source": [
    " "
   ]
  },
  {
   "cell_type": "markdown",
   "metadata": {},
   "source": [
    " "
   ]
  },
  {
   "cell_type": "markdown",
   "metadata": {},
   "source": [
    " "
   ]
  },
  {
   "cell_type": "markdown",
   "metadata": {},
   "source": [
    "Let's now focus on averaging techniques. Keep in mind that two types of averagings have been seen durng the lesson :\n",
    " - Averaging the coefficients (optimize the solution)\n",
    " - Averaging the gradients (accelerated variant of the convergence)"
   ]
  },
  {
   "cell_type": "markdown",
   "metadata": {},
   "source": [
    "### Averaging the coefficients"
   ]
  },
  {
   "cell_type": "code",
   "execution_count": 11,
   "metadata": {},
   "outputs": [],
   "source": [
    "class StochasticAverageLogisticRegression(StochasticLogisticRegression):\n",
    "    def compute_lr(self, itr, min_lr=1e-5):\n",
    "        lr = max(self.lr_ / itr**0.75, min_lr)\n",
    "        return lr\n",
    "        \n",
    "    def compute_next_coef(self, X, y, lr, batches, itr):\n",
    "        batch=batches[itr%len(batches)]\n",
    "        coef_np1 = self.coef_ - lr * self.gradient(coef=self.coef_, \n",
    "                                                   X=X, y=y,\n",
    "                                                   batch=batch)\n",
    "\n",
    "        # A technique of averaging the coefficients can be considered\n",
    "        coef_np1 = (1 - 1/itr)*self.coef_history_[-1] + coef_np1 / itr\n",
    "        return coef_np1"
   ]
  },
  {
   "cell_type": "code",
   "execution_count": 12,
   "metadata": {},
   "outputs": [],
   "source": [
    "my_averaged_model = StochasticAverageLogisticRegression(reg=.001, lr=5e-4, batch_size=100, max_iter=2000, tol=0.01) \n",
    "my_averaged_model.fit(diabetes_train_x, diabetes_train_y, start=np.random.rand(diabetes_train_x.shape[1]))\n",
    "y_pred = my_averaged_model.predict(diabetes_test_x)"
   ]
  },
  {
   "cell_type": "code",
   "execution_count": 13,
   "metadata": {},
   "outputs": [
    {
     "data": {
      "text/plain": [
       "0.609375"
      ]
     },
     "execution_count": 13,
     "metadata": {},
     "output_type": "execute_result"
    }
   ],
   "source": [
    "from sklearn.metrics import accuracy_score\n",
    "accuracy_score(diabetes_test_y, y_pred)"
   ]
  },
  {
   "cell_type": "markdown",
   "metadata": {},
   "source": [
    "###### Plot the convergence with respect to the batch size - with and without averaging"
   ]
  },
  {
   "cell_type": "code",
   "execution_count": 14,
   "metadata": {},
   "outputs": [
    {
     "data": {
      "image/png": "[encoded data removed]",
      "text/plain": [
       "<Figure size 1152x576 with 2 Axes>"
      ]
     },
     "metadata": {
      "needs_background": "light"
     },
     "output_type": "display_data"
    }
   ],
   "source": [
    "from sklearn.metrics import accuracy_score\n",
    "\n",
    "batch_sizes = [1,25,100,250]\n",
    "init_args = dict(reg=1, lr=0.01, max_iter=500, tol=0.001)\n",
    "fit_args= dict(X=diabetes_train_x, y=diabetes_train_y, start=np.ones(shape=(diabetes_train_x.shape[1])))\n",
    "\n",
    "plt.figure(figsize=(16,8))\n",
    "\n",
    "ax = plt.subplot(121)\n",
    "for batch_size in batch_sizes:\n",
    "    my_model = StochasticLogisticRegression(**init_args, batch_size=batch_size) \n",
    "    my_model.fit(**fit_args)\n",
    "    y_pred = my_model.predict(diabetes_test_x)\n",
    "    plt.plot([i for i in range(1,len(my_model.f_history_)+1)], \n",
    "             my_model.f_history_, \n",
    "             label=\"Batch size: {};\\nAccuracy: {:.1f} %;\\nIterations: {}\".format(batch_size,\n",
    "                                                                              accuracy_score(diabetes_test_y,\n",
    "                                                                                             y_pred)*100,\n",
    "                                                                              len(my_model.f_history_)))\n",
    "plt.legend()\n",
    "plt.xlabel(\"Iterations\")\n",
    "plt.ylabel(\"Loss\")\n",
    "plt.title(\"Loss along iterations - No averaging\")\n",
    "\n",
    "plt.subplot(122, sharey=ax)\n",
    "for batch_size in batch_sizes:\n",
    "    my_model = StochasticAverageLogisticRegression(**init_args, batch_size=batch_size) \n",
    "    my_model.fit(**fit_args)\n",
    "    y_pred = my_model.predict(diabetes_test_x)\n",
    "    plt.plot([i for i in range(1,len(my_model.f_history_)+1)], \n",
    "             my_model.f_history_, \n",
    "             label=\"Batch size: {};\\nAccuracy: {:.1f} %;\\nIterations: {}\".format(batch_size,\n",
    "                                                                              accuracy_score(diabetes_test_y, y_pred)*100,\n",
    "                                                                              len(my_model.f_history_)))\n",
    "plt.legend()\n",
    "plt.xlabel(\"Iterations\")\n",
    "plt.ylabel(\"Loss\")\n",
    "plt.title(\"Loss along iterations - With coefficient averaging\")\n",
    "plt.show()"
   ]
  },
  {
   "cell_type": "markdown",
   "metadata": {},
   "source": [
    " Averaging the coefficients effectively improves the speed of convergence of the algorithm, but the final loss and accuracy are not as good as without averaging."
   ]
  },
  {
   "cell_type": "markdown",
   "metadata": {},
   "source": [
    " "
   ]
  },
  {
   "cell_type": "markdown",
   "metadata": {},
   "source": [
    " "
   ]
  },
  {
   "cell_type": "markdown",
   "metadata": {},
   "source": [
    " "
   ]
  },
  {
   "cell_type": "markdown",
   "metadata": {},
   "source": [
    "### Accelerated Variants"
   ]
  },
  {
   "cell_type": "code",
   "execution_count": 22,
   "metadata": {},
   "outputs": [],
   "source": [
    "class AcceleratedStochasticLogisticRegression(StochasticLogisticRegression):\n",
    "    def __init__(self, acc_type='SAG', **kwargs):\n",
    "        \"\"\"\n",
    "        phi_: List\n",
    "            phi[index] are the last evaluated coefficients for batch=batches[index]\n",
    "            This is somehow a memory that will be used to compute the batch-wise momentum.\n",
    "        acc_type_: str, one of 'SAG' or 'SAGA'\n",
    "            the averaged acceleration method that will be used\n",
    "        \"\"\"\n",
    "        super().__init__(**kwargs)\n",
    "        self.phi_ = []\n",
    "        self.acc_type_ = acc_type\n",
    "        self.grad_sum_ = 0\n",
    "\n",
    "    def create_batches(self, X):\n",
    "        batches = super().create_batches(X)\n",
    "        self.phi_ = [self.coef_] * len(batches)\n",
    "        return batches\n",
    "    \n",
    "    def compute_lr(self, itr, min_lr=1e-5):\n",
    "        #if not self.acc_type_:\n",
    "        lr = max(self.lr_ / itr, min_lr)\n",
    "        #else:\n",
    "        #    lr = max(self.lr_ / itr**0.75, min_lr)\n",
    "        return lr\n",
    "    \n",
    "    def compute_next_coef(self, X, y, lr, batches, itr):\n",
    "        grad_phi = 0\n",
    "        for index in range(len(batches)):\n",
    "            # Let's compute the gradient of phi on each batch\n",
    "            grad_phi += self.gradient(coef=self.phi_[index], \n",
    "                                      X=X, y=y,\n",
    "                                      batch=batches[index])\n",
    "\n",
    "        additional_term = (self.gradient(coef=self.coef_,X=X, y=y,\n",
    "                                              batch=batches[itr%len(batches)]) - \n",
    "                                self.gradient(coef=self.phi_[itr%len(self.phi_)],X=X, y=y,\n",
    "                                              batch=batches[itr%len(batches)]))\n",
    "\n",
    "        if self.acc_type_=='SAG':\n",
    "            coef_np1 = self.coef_ - lr * (grad_phi - additional_term)/X.shape[0]\n",
    "        elif self.acc_type_=='SAGA':\n",
    "            coef_np1 = self.coef_ - lr * (grad_phi/X.shape[0] - additional_term)\n",
    "        else: # Then self.acc_type_ is None\n",
    "            coef_np1 = self.coef_ - lr * self.gradient(coef=self.coef_, \n",
    "                                                       X=X, y=y,\n",
    "                                                       batch=batches[itr%len(batches)])\n",
    "        \n",
    "        self.phi_[itr%len(self.phi_)] = self.coef_\n",
    "        return coef_np1"
   ]
  },
  {
   "cell_type": "code",
   "execution_count": 16,
   "metadata": {},
   "outputs": [],
   "source": [
    "class ADAM(StochasticLogisticRegression):\n",
    "    def __init__(self, f1=None, f2=None, **kwargs):\n",
    "        # Forgetting factors\n",
    "        self.f1_ = f1\n",
    "        self.f2_ = f2\n",
    "        \n",
    "        # Coefficients\n",
    "        self.m_ = [1]\n",
    "        self.v_ = [1]\n",
    "        super().__init__(**kwargs)\n",
    "    \n",
    "    def compute_lr(self, itr, min_lr=1e-5):\n",
    "        return self.lr_\n",
    "    \n",
    "    def compute_next_coef(self, X, y, lr, batches, itr):\n",
    "        gradient = self.gradient(coef=self.coef_, X=X, y=y,\n",
    "                                 batch=batches[itr%len(batches)])\n",
    "\n",
    "        mnp1 = (self.f1_ * self.m_[-1] + (1 - self.f1_) * gradient) / (1 - self.f1_**(itr + 1))\n",
    "        vnp1 = (self.f2_ * self.v_[-1] + (1 - self.f2_) * (gradient**2)) / (1 - self.f2_**(itr + 1))\n",
    "\n",
    "        self.m_.append(mnp1)\n",
    "        self.v_.append(vnp1)\n",
    "\n",
    "\n",
    "        coef_np1 = self.coef_ - lr * mnp1 / (np.sqrt(vnp1) + 1e-7)\n",
    "\n",
    "        return coef_np1"
   ]
  },
  {
   "cell_type": "code",
   "execution_count": 17,
   "metadata": {},
   "outputs": [
    {
     "name": "stdout",
     "output_type": "stream",
     "text": [
      "Accuracy score for SAGA method: 0.6822916666666666\n"
     ]
    }
   ],
   "source": [
    "from sklearn.metrics import accuracy_score\n",
    "my_accelerated_model = AcceleratedStochasticLogisticRegression(reg=1, lr=0.01, max_iter=1000, tol=0.001, acc_type='SAGA', batch_size=100)\n",
    "my_accelerated_model.fit(diabetes_train_x, diabetes_train_y, start=np.random.rand(diabetes_train_x.shape[1]))\n",
    "y_pred = my_accelerated_model.predict(diabetes_test_x)\n",
    "acc = accuracy_score(diabetes_test_y, y_pred)\n",
    "print(\"Accuracy score for SAGA method:\", acc)"
   ]
  },
  {
   "cell_type": "markdown",
   "metadata": {},
   "source": [
    "###### Let's plot the losses of the different accelerated methods"
   ]
  },
  {
   "cell_type": "code",
   "execution_count": 23,
   "metadata": {},
   "outputs": [
    {
     "data": {
      "image/png": "[encoded data removed]",
      "text/plain": [
       "<Figure size 720x720 with 1 Axes>"
      ]
     },
     "metadata": {
      "needs_background": "light"
     },
     "output_type": "display_data"
    }
   ],
   "source": [
    "from sklearn.metrics import accuracy_score\n",
    "plt.figure(figsize=(10,10))\n",
    "\n",
    "batch_size = 100\n",
    "init_args = dict(reg=1, lr=0.01, max_iter=1000, tol=0.001, batch_size=batch_size)\n",
    "fit_args = dict(X=diabetes_train_x, y=diabetes_train_y, start=np.random.rand(diabetes_train_x.shape[1]))\n",
    "\n",
    "for acc_type in [None, 'SAG', 'SAGA']:\n",
    "    my_model = AcceleratedStochasticLogisticRegression(**init_args, acc_type=acc_type) \n",
    "    my_model.fit(**fit_args)\n",
    "    y_pred = my_model.predict(diabetes_test_x)\n",
    "    plt.plot([i for i in range(1,len(my_model.f_history_)+1)], \n",
    "             my_model.f_history_, \n",
    "             label=\"Acceleration: {};\\nAccuracy: {:.1f} %;\\nIterations: {}\".format(acc_type if acc_type else \"No acceleration\",\n",
    "                                                                                 accuracy_score(diabetes_test_y, y_pred)*100,\n",
    "                                                                                 len(my_model.f_history_)))\n",
    "\n",
    "\n",
    "# ADAM\n",
    "adam = ADAM(**init_args, f1=0.1, f2=0.1)\n",
    "adam.fit(**fit_args)\n",
    "y_pred = adam.predict(diabetes_test_x)\n",
    "plt.plot([i for i in range(1,len(adam.f_history_)+1)], \n",
    "         adam.f_history_, \n",
    "         label=\"Acceleration: {};\\nAccuracy: {:.1f} %;\\nIterations: {}\".format(\"ADAM\",\n",
    "                                                                             accuracy_score(diabetes_test_y, y_pred)*100,\n",
    "                                                                             len(adam.f_history_)))\n",
    "plt.legend()\n",
    "plt.xlabel(\"Iterations\")\n",
    "plt.ylabel(\"Loss\")\n",
    "plt.title(\"Loss along iterations - Acceleration techniques; batch_size: {}\".format(batch_size))\n",
    "plt.show()"
   ]
  },
  {
   "cell_type": "markdown",
   "metadata": {},
   "source": [
    "**Comments:**\n",
    "\n",
    "Surpisingly the SAG and SAGA accelerated methods do not converge faster !\n",
    "\n",
    "However, the ADAM method (ADaptive Moment Estimation - Diederik P. Kingma and Jimmy Ba, 2014) has convergence properties more than decent. This explains why everybody is using it !\n",
    "\n",
    "However, we observe that Adam yields a lower loss in the training set and a lower validation accuracy than the unaccelerated method : we are probably overfitting.\n",
    "\n",
    "What could be interesting to look at to go further is the validation loss of each of our methods and cross validation."
   ]
  },
  {
   "cell_type": "markdown",
   "metadata": {},
   "source": [
    " "
   ]
  },
  {
   "cell_type": "markdown",
   "metadata": {},
   "source": [
    " "
   ]
  },
  {
   "cell_type": "markdown",
   "metadata": {},
   "source": [
    " "
   ]
  },
  {
   "cell_type": "markdown",
   "metadata": {},
   "source": [
    " "
   ]
  },
  {
   "cell_type": "markdown",
   "metadata": {},
   "source": [
    " "
   ]
  }
 ],
 "metadata": {
  "anaconda-cloud": {},
  "kernelspec": {
   "display_name": "Python 3",
   "language": "python",
   "name": "python3"
  },
  "language_info": {
   "codemirror_mode": {
    "name": "ipython",
    "version": 3
   },
   "file_extension": ".py",
   "mimetype": "text/x-python",
   "name": "python",
   "nbconvert_exporter": "python",
   "pygments_lexer": "ipython3",
   "version": "3.6.9"
  }
 },
 "nbformat": 4,
 "nbformat_minor": 2
}
